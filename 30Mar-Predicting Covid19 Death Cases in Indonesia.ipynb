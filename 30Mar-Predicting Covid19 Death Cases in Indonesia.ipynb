{
  "nbformat": 4,
  "nbformat_minor": 0,
  "metadata": {
    "kernelspec": {
      "display_name": "Python 3",
      "language": "python",
      "name": "python3"
    },
    "language_info": {
      "codemirror_mode": {
        "name": "ipython",
        "version": 3
      },
      "file_extension": ".py",
      "mimetype": "text/x-python",
      "name": "python",
      "nbconvert_exporter": "python",
      "pygments_lexer": "ipython3",
      "version": "3.7.4"
    },
    "colab": {
      "name": "Predicting Covid19 Death Cases in Indonesia.ipynb",
      "provenance": [],
      "collapsed_sections": []
    }
  },
  "cells": [
    {
      "cell_type": "code",
      "metadata": {
        "id": "iUsNEejNltiW",
        "colab_type": "code",
        "colab": {}
      },
      "source": [
        "import pandas as pd\n",
        "import numpy as np\n",
        "from datetime import datetime,timedelta\n",
        "from sklearn.metrics import mean_squared_error\n",
        "from scipy.optimize import curve_fit\n",
        "from scipy.optimize import fsolve\n",
        "import matplotlib.pyplot as plt"
      ],
      "execution_count": 0,
      "outputs": []
    },
    {
      "cell_type": "markdown",
      "metadata": {
        "id": "Zdjr7qe1ltim",
        "colab_type": "text"
      },
      "source": [
        "## Using Logistic Model\n",
        "### https://www.kaggle.com/rizkyalifr/logistic-model-for-indonesia-covid-19"
      ]
    },
    {
      "cell_type": "code",
      "metadata": {
        "id": "ZLi0q6Z0ltip",
        "colab_type": "code",
        "colab": {}
      },
      "source": [
        "# df=pd.read_csv('indonesia-coronavirus-cases/confirmed_acc.csv')\n",
        "# df = df.loc[:,['date','cases']]\n",
        "# FMT = '%m/%d/%Y'\n",
        "\n",
        "link_cases = 'https://gist.githubusercontent.com/andreasnovian/bd91a4a4d93329f022669aaf8c51f2ab/raw/563d7b1c1c9cfa7c92655ce1138af9fe60d13975/cases.csv'\n",
        "df = pd.read_csv(link_cases, sep = \",\")\n",
        "df = df.loc[:,['date','acc_deceased']]\n",
        "df = df.dropna()\n",
        "FMT = '%d-%b-%y'\n",
        "\n",
        "date = df['date']\n",
        "# df['date'] = date.map(lambda x : (datetime.strptime(x, FMT) - datetime.strptime(\"1/22/2020\", FMT)).days  )\n",
        "df['date'] = date.map(lambda x : (datetime.strptime(x, FMT) - datetime.strptime(\"1-Mar-20\", FMT)).days  )"
      ],
      "execution_count": 0,
      "outputs": []
    },
    {
      "cell_type": "code",
      "metadata": {
        "id": "5_s4rf98lti0",
        "colab_type": "code",
        "outputId": "cc8b72a7-483e-410c-c0fc-d85d1f845ef1",
        "colab": {
          "base_uri": "https://localhost:8080/",
          "height": 527
        }
      },
      "source": [
        "print(df)"
      ],
      "execution_count": 232,
      "outputs": [
        {
          "output_type": "stream",
          "text": [
            "    date  acc_deceased\n",
            "0      1             0\n",
            "1      2             0\n",
            "2      3             0\n",
            "3      4             0\n",
            "4      5             0\n",
            "5      6             0\n",
            "6      7             0\n",
            "7      8             0\n",
            "8      9             0\n",
            "9     10             2\n",
            "10    11             4\n",
            "11    12             4\n",
            "12    13             5\n",
            "13    14             5\n",
            "14    15             5\n",
            "15    16             7\n",
            "16    17            19\n",
            "17    18            25\n",
            "18    19            32\n",
            "19    20            38\n",
            "20    21            48\n",
            "21    22            49\n",
            "22    23            55\n",
            "23    24            58\n",
            "24    25            78\n",
            "25    26            87\n",
            "26    27           102\n",
            "27    28           114\n",
            "28    29           122\n"
          ],
          "name": "stdout"
        }
      ]
    },
    {
      "cell_type": "code",
      "metadata": {
        "id": "nPaBFFRGltjJ",
        "colab_type": "code",
        "colab": {}
      },
      "source": [
        "def logistic_model(x,a,b,c):\n",
        "    return c/(1+np.exp(-(x-b)/a))"
      ],
      "execution_count": 0,
      "outputs": []
    },
    {
      "cell_type": "code",
      "metadata": {
        "id": "eAcg1Ju2ltjY",
        "colab_type": "code",
        "outputId": "cb81742e-d9a1-452c-f8ae-7f1f2ddaf269",
        "colab": {
          "base_uri": "https://localhost:8080/",
          "height": 34
        }
      },
      "source": [
        "x = list(df.iloc[1:,0])\n",
        "y = list(df.iloc[1:,1])\n",
        "\n",
        "fit = curve_fit(logistic_model,x,y)\n",
        "\n",
        "A,B = fit\n",
        "#nilai a,b,c\n",
        "A"
      ],
      "execution_count": 234,
      "outputs": [
        {
          "output_type": "execute_result",
          "data": {
            "text/plain": [
              "array([  4.06428257,  26.21003768, 183.38736144])"
            ]
          },
          "metadata": {
            "tags": []
          },
          "execution_count": 234
        }
      ]
    },
    {
      "cell_type": "code",
      "metadata": {
        "id": "BM1ZU7lHltjj",
        "colab_type": "code",
        "outputId": "e2a7853e-352c-4ba8-e49e-56a779b262f5",
        "colab": {
          "base_uri": "https://localhost:8080/",
          "height": 34
        }
      },
      "source": [
        "errors = [np.sqrt(fit[1][i][i]) for i in [0,1,2]]\n",
        "errors"
      ],
      "execution_count": 235,
      "outputs": [
        {
          "output_type": "execute_result",
          "data": {
            "text/plain": [
              "[0.32627036513349844, 1.047173835144449, 22.12642329715683]"
            ]
          },
          "metadata": {
            "tags": []
          },
          "execution_count": 235
        }
      ]
    },
    {
      "cell_type": "code",
      "metadata": {
        "id": "utNXovZyltjw",
        "colab_type": "code",
        "colab": {}
      },
      "source": [
        "#Kemungkinan terburuk\n",
        "a=A[0]+errors[0]\n",
        "b=A[1]+errors[1]\n",
        "c=A[2]+errors[2]"
      ],
      "execution_count": 0,
      "outputs": []
    },
    {
      "cell_type": "code",
      "metadata": {
        "id": "tc_oBpTMltj_",
        "colab_type": "code",
        "outputId": "3abd7816-71db-4b5e-d138-e3698cb86b00",
        "colab": {
          "base_uri": "https://localhost:8080/",
          "height": 34
        }
      },
      "source": [
        "#Jumlah hari maksimal dari 2 Maret \n",
        "sol = int(fsolve(lambda x : logistic_model(x,a,b,c) - int(c),b))\n",
        "sol"
      ],
      "execution_count": 237,
      "outputs": [
        {
          "output_type": "execute_result",
          "data": {
            "text/plain": [
              "53"
            ]
          },
          "metadata": {
            "tags": []
          },
          "execution_count": 237
        }
      ]
    },
    {
      "cell_type": "code",
      "metadata": {
        "id": "RGpgrI2sltkN",
        "colab_type": "code",
        "outputId": "143e4d8c-f844-40f2-d2cb-ec48b89b72ff",
        "colab": {
          "base_uri": "https://localhost:8080/",
          "height": 450
        }
      },
      "source": [
        "pred_x = list(range(max(x),sol))\n",
        "plt.rcParams['figure.figsize'] = [7, 7]\n",
        "plt.rc('font', size=14)# Real data\n",
        "plt.scatter(x,y,label=\"Real data\",color=\"red\")\n",
        "\n",
        "# Predicted logistic curve\n",
        "plt.plot(x+pred_x, [logistic_model(i,a,b,c) for i in x+pred_x], label=\"Logistic model\" )\n",
        "\n",
        "plt.legend()\n",
        "plt.xlabel(\"Days since 2 March 2020\")\n",
        "plt.ylabel(\"Total number of deceased people\")\n",
        "plt.ylim((min(y)*0.9,c*1.1))\n",
        "plt.show()"
      ],
      "execution_count": 238,
      "outputs": [
        {
          "output_type": "display_data",
          "data": {
            "image/png": "[encoded data removed]",
            "text/plain": [
              "<Figure size 504x504 with 1 Axes>"
            ]
          },
          "metadata": {
            "tags": []
          }
        }
      ]
    },
    {
      "cell_type": "code",
      "metadata": {
        "id": "Hp_SegTqltkX",
        "colab_type": "code",
        "outputId": "8bd3947d-eaaf-4b93-ebad-19733869033e",
        "colab": {
          "base_uri": "https://localhost:8080/",
          "height": 187
        }
      },
      "source": [
        "pred_y = [logistic_model(i,a,b,c) for i in pred_x]\n",
        "\n",
        "for i in range(10):\n",
        "    \n",
        "    days = pred_x[i]\n",
        "    date = datetime.strptime(\"1-Mar-20\", \"%d-%b-%y\") + timedelta(days=days)\n",
        "    date = date.isoformat()\n",
        "    print('Tanggal',date,'Jumlah Korban Meninggal',pred_y[i])"
      ],
      "execution_count": 239,
      "outputs": [
        {
          "output_type": "stream",
          "text": [
            "Tanggal 2020-03-30T00:00:00 Jumlah Korban Meninggal 122.88745507998115\n",
            "Tanggal 2020-03-31T00:00:00 Jumlah Korban Meninggal 133.84850864467575\n",
            "Tanggal 2020-04-01T00:00:00 Jumlah Korban Meninggal 144.08238001860835\n",
            "Tanggal 2020-04-02T00:00:00 Jumlah Korban Meninggal 153.42358437219158\n",
            "Tanggal 2020-04-03T00:00:00 Jumlah Korban Meninggal 161.77556047732784\n",
            "Tanggal 2020-04-04T00:00:00 Jumlah Korban Meninggal 169.1061843965032\n",
            "Tanggal 2020-04-05T00:00:00 Jumlah Korban Meninggal 175.4366050812748\n",
            "Tanggal 2020-04-06T00:00:00 Jumlah Korban Meninggal 180.82700134279773\n",
            "Tanggal 2020-04-07T00:00:00 Jumlah Korban Meninggal 185.3623034979278\n",
            "Tanggal 2020-04-08T00:00:00 Jumlah Korban Meninggal 189.13985441647648\n"
          ],
          "name": "stdout"
        }
      ]
    },
    {
      "cell_type": "code",
      "metadata": {
        "id": "miFvlzNaltkg",
        "colab_type": "code",
        "outputId": "12db7cb3-59ae-44f9-ba15-5df989f0a652",
        "colab": {
          "base_uri": "https://localhost:8080/",
          "height": 51
        }
      },
      "source": [
        "y_pred_logistic = [logistic_model(i,a,b,c) for i in x]\n",
        "p=mean_squared_error(y,y_pred_logistic)\n",
        "\n",
        "s1=(np.subtract(y,y_pred_logistic)**2).sum()\n",
        "s2=(np.subtract(y,np.mean(y))**2).sum()\n",
        "r=1-s1/s2\n",
        "print(\"R^2 adalah {}\".format(r))\n",
        "print(\"Mean square errornya adalah {}\".format(p))"
      ],
      "execution_count": 240,
      "outputs": [
        {
          "output_type": "stream",
          "text": [
            "R^2 adalah 0.9905335876756898\n",
            "Mean square errornya adalah 13.622203558198928\n"
          ],
          "name": "stdout"
        }
      ]
    },
    {
      "cell_type": "code",
      "metadata": {
        "id": "Tl9evyZxltlM",
        "colab_type": "code",
        "colab": {}
      },
      "source": [
        "from datetime import timedelta, date\n",
        "from datetime import datetime  \n",
        "from datetime import timedelta \n",
        "\n",
        "start_date = \"1/03/20\"\n",
        "\n",
        "date_1 = datetime.strptime(start_date, \"%d/%m/%y\")\n",
        "\n",
        "end_date = date_1 + timedelta(days=sol)\n",
        "\n",
        "end = end_date.strftime(\"%d %b %Y\")"
      ],
      "execution_count": 0,
      "outputs": []
    },
    {
      "cell_type": "code",
      "metadata": {
        "id": "ku_YGJN2ltle",
        "colab_type": "code",
        "outputId": "316b0993-52b6-4f26-a618-ae2f59c8d421",
        "colab": {
          "base_uri": "https://localhost:8080/",
          "height": 34
        }
      },
      "source": [
        "print(\"Jumlah maksimal pasien meninggal di Indonesia menurut prediksi adalah {:f}\".format(A[2]+errors[2])) #Penambahan dengan error\n",
        "# print(\"Wabah akan berakhir {:.0f} hari setelah 1 Maret 2020 atau {}\". format(sol,end))"
      ],
      "execution_count": 250,
      "outputs": [
        {
          "output_type": "stream",
          "text": [
            "Jumlah maksimal pasien meninggal di Indonesia menurut prediksi adalah 205.513785\n"
          ],
          "name": "stdout"
        }
      ]
    },
    {
      "cell_type": "markdown",
      "metadata": {
        "id": "780Ka8QPltlm",
        "colab_type": "text"
      },
      "source": [
        "## Using Prediction Tool: FBProphet\n",
        "### https://www.kaggle.com/ardisragen/predicting-coronavirus-positive-cases-in-indonesia"
      ]
    },
    {
      "cell_type": "code",
      "metadata": {
        "id": "sXCfPoJRltln",
        "colab_type": "code",
        "outputId": "bf26b544-25f1-4d8d-bb1d-05bc90a4a555",
        "colab": {
          "base_uri": "https://localhost:8080/",
          "height": 17
        }
      },
      "source": [
        "import pandas as pd\n",
        "import datetime\n",
        "import matplotlib.pyplot as plt\n",
        "import plotly.express as px\n",
        "import plotly.offline as py\n",
        "from plotly.offline import download_plotlyjs, init_notebook_mode, plot, iplot\n",
        "init_notebook_mode(connected=True)\n",
        "from fbprophet import Prophet"
      ],
      "execution_count": 243,
      "outputs": [
        {
          "output_type": "display_data",
          "data": {
            "text/html": [
              "        <script type=\"text/javascript\">\n",
              "        window.PlotlyConfig = {MathJaxConfig: 'local'};\n",
              "        if (window.MathJax) {MathJax.Hub.Config({SVG: {font: \"STIX-Web\"}});}\n",
              "        if (typeof require !== 'undefined') {\n",
              "        require.undef(\"plotly\");\n",
              "        requirejs.config({\n",
              "            paths: {\n",
              "                'plotly': ['https://cdn.plot.ly/plotly-latest.min']\n",
              "            }\n",
              "        });\n",
              "        require(['plotly'], function(Plotly) {\n",
              "            window._Plotly = Plotly;\n",
              "        });\n",
              "        }\n",
              "        </script>\n",
              "        "
            ]
          },
          "metadata": {
            "tags": []
          }
        }
      ]
    },
    {
      "cell_type": "code",
      "metadata": {
        "id": "pXrDisH2ltlw",
        "colab_type": "code",
        "outputId": "43f6c0b3-8c23-4a2b-992a-837ed283c435",
        "colab": {
          "base_uri": "https://localhost:8080/",
          "height": 119
        }
      },
      "source": [
        "# link_confirmed_acc = 'https://gist.githubusercontent.com/andreasnovian/e608523a06013478847b171c69a9287c/raw/6d7984d9a31b27657d9822cefdf5e755c650079f/confirmed_acc.csv'\n",
        "# data = pd.read_csv(link_confirmed_acc, sep = \",\")\n",
        "\n",
        "# print(data.tail())\n",
        "\n",
        "link_cases = 'https://gist.githubusercontent.com/andreasnovian/bd91a4a4d93329f022669aaf8c51f2ab/raw/563d7b1c1c9cfa7c92655ce1138af9fe60d13975/cases.csv'\n",
        "data = pd.read_csv(link_cases, sep = \",\")\n",
        "data = data.loc[:,['date','acc_deceased']]\n",
        "data = data.dropna()\n",
        "\n",
        "print(data.tail())"
      ],
      "execution_count": 244,
      "outputs": [
        {
          "output_type": "stream",
          "text": [
            "         date  acc_deceased\n",
            "24  26-Mar-20            78\n",
            "25  27-Mar-20            87\n",
            "26  28-Mar-20           102\n",
            "27  29-Mar-20           114\n",
            "28  30-Mar-20           122\n"
          ],
          "name": "stdout"
        }
      ]
    },
    {
      "cell_type": "code",
      "metadata": {
        "id": "KqzFjZImltl-",
        "colab_type": "code",
        "outputId": "d197c823-009c-469c-ca0b-3f80efcac91f",
        "colab": {
          "base_uri": "https://localhost:8080/",
          "height": 542
        }
      },
      "source": [
        "end = datetime.datetime.now() - datetime.timedelta(1)\n",
        "date_index = pd.date_range('2020-03-02', end)\n",
        "\n",
        "fig = px.area(data, x=date_index, y='acc_deceased' )\n",
        "fig.show()"
      ],
      "execution_count": 245,
      "outputs": [
        {
          "output_type": "display_data",
          "data": {
            "text/html": [
              "<div>\n",
              "        \n",
              "        \n",
              "            <div id=\"a9868c01-f4dc-4815-8135-1eeab7cd29bc\" class=\"plotly-graph-div\" style=\"height:525px; width:100%;\"></div>\n",
              "            <script type=\"text/javascript\">\n",
              "                require([\"plotly\"], function(Plotly) {\n",
              "                    window.PLOTLYENV=window.PLOTLYENV || {};\n",
              "                    \n",
              "                if (document.getElementById(\"a9868c01-f4dc-4815-8135-1eeab7cd29bc\")) {\n",
              "                    Plotly.newPlot(\n",
              "                        'a9868c01-f4dc-4815-8135-1eeab7cd29bc',\n",
              "                        [{\"hoverlabel\": {\"namelength\": 0}, \"hovertemplate\": \"x=%{x}<br>acc_deceased=%{y}\", \"legendgroup\": \"\", \"line\": {\"color\": \"#636efa\"}, \"mode\": \"lines\", \"name\": \"\", \"orientation\": \"v\", \"showlegend\": false, \"stackgroup\": \"1\", \"type\": \"scatter\", \"x\": [\"2020-03-02T00:00:00\", \"2020-03-03T00:00:00\", \"2020-03-04T00:00:00\", \"2020-03-05T00:00:00\", \"2020-03-06T00:00:00\", \"2020-03-07T00:00:00\", \"2020-03-08T00:00:00\", \"2020-03-09T00:00:00\", \"2020-03-10T00:00:00\", \"2020-03-11T00:00:00\", \"2020-03-12T00:00:00\", \"2020-03-13T00:00:00\", \"2020-03-14T00:00:00\", \"2020-03-15T00:00:00\", \"2020-03-16T00:00:00\", \"2020-03-17T00:00:00\", \"2020-03-18T00:00:00\", \"2020-03-19T00:00:00\", \"2020-03-20T00:00:00\", \"2020-03-21T00:00:00\", \"2020-03-22T00:00:00\", \"2020-03-23T00:00:00\", \"2020-03-24T00:00:00\", \"2020-03-25T00:00:00\", \"2020-03-26T00:00:00\", \"2020-03-27T00:00:00\", \"2020-03-28T00:00:00\", \"2020-03-29T00:00:00\", \"2020-03-30T00:00:00\"], \"xaxis\": \"x\", \"y\": [0, 0, 0, 0, 0, 0, 0, 0, 0, 2, 4, 4, 5, 5, 5, 7, 19, 25, 32, 38, 48, 49, 55, 58, 78, 87, 102, 114, 122], \"yaxis\": \"y\"}],\n",
              "                        {\"legend\": {\"tracegroupgap\": 0}, \"margin\": {\"t\": 60}, \"template\": {\"data\": {\"bar\": [{\"error_x\": {\"color\": \"#2a3f5f\"}, \"error_y\": {\"color\": \"#2a3f5f\"}, \"marker\": {\"line\": {\"color\": \"#E5ECF6\", \"width\": 0.5}}, \"type\": \"bar\"}], \"barpolar\": [{\"marker\": {\"line\": {\"color\": \"#E5ECF6\", \"width\": 0.5}}, \"type\": \"barpolar\"}], \"carpet\": [{\"aaxis\": {\"endlinecolor\": \"#2a3f5f\", \"gridcolor\": \"white\", \"linecolor\": \"white\", \"minorgridcolor\": \"white\", \"startlinecolor\": \"#2a3f5f\"}, \"baxis\": {\"endlinecolor\": \"#2a3f5f\", \"gridcolor\": \"white\", \"linecolor\": \"white\", \"minorgridcolor\": \"white\", \"startlinecolor\": \"#2a3f5f\"}, \"type\": \"carpet\"}], \"choropleth\": [{\"colorbar\": {\"outlinewidth\": 0, \"ticks\": \"\"}, \"type\": \"choropleth\"}], \"contour\": [{\"colorbar\": {\"outlinewidth\": 0, \"ticks\": \"\"}, \"colorscale\": [[0.0, \"#0d0887\"], [0.1111111111111111, \"#46039f\"], [0.2222222222222222, \"#7201a8\"], [0.3333333333333333, \"#9c179e\"], [0.4444444444444444, \"#bd3786\"], [0.5555555555555556, \"#d8576b\"], [0.6666666666666666, \"#ed7953\"], [0.7777777777777778, \"#fb9f3a\"], [0.8888888888888888, \"#fdca26\"], [1.0, \"#f0f921\"]], \"type\": \"contour\"}], \"contourcarpet\": [{\"colorbar\": {\"outlinewidth\": 0, \"ticks\": \"\"}, \"type\": \"contourcarpet\"}], \"heatmap\": [{\"colorbar\": {\"outlinewidth\": 0, \"ticks\": \"\"}, \"colorscale\": [[0.0, \"#0d0887\"], [0.1111111111111111, \"#46039f\"], [0.2222222222222222, \"#7201a8\"], [0.3333333333333333, \"#9c179e\"], [0.4444444444444444, \"#bd3786\"], [0.5555555555555556, \"#d8576b\"], [0.6666666666666666, \"#ed7953\"], [0.7777777777777778, \"#fb9f3a\"], [0.8888888888888888, \"#fdca26\"], [1.0, \"#f0f921\"]], \"type\": \"heatmap\"}], \"heatmapgl\": [{\"colorbar\": {\"outlinewidth\": 0, \"ticks\": \"\"}, \"colorscale\": [[0.0, \"#0d0887\"], [0.1111111111111111, \"#46039f\"], [0.2222222222222222, \"#7201a8\"], [0.3333333333333333, \"#9c179e\"], [0.4444444444444444, \"#bd3786\"], [0.5555555555555556, \"#d8576b\"], [0.6666666666666666, \"#ed7953\"], [0.7777777777777778, \"#fb9f3a\"], [0.8888888888888888, \"#fdca26\"], [1.0, \"#f0f921\"]], \"type\": \"heatmapgl\"}], \"histogram\": [{\"marker\": {\"colorbar\": {\"outlinewidth\": 0, \"ticks\": \"\"}}, \"type\": \"histogram\"}], \"histogram2d\": [{\"colorbar\": {\"outlinewidth\": 0, \"ticks\": \"\"}, \"colorscale\": [[0.0, \"#0d0887\"], [0.1111111111111111, \"#46039f\"], [0.2222222222222222, \"#7201a8\"], [0.3333333333333333, \"#9c179e\"], [0.4444444444444444, \"#bd3786\"], [0.5555555555555556, \"#d8576b\"], [0.6666666666666666, \"#ed7953\"], [0.7777777777777778, \"#fb9f3a\"], [0.8888888888888888, \"#fdca26\"], [1.0, \"#f0f921\"]], \"type\": \"histogram2d\"}], \"histogram2dcontour\": [{\"colorbar\": {\"outlinewidth\": 0, \"ticks\": \"\"}, \"colorscale\": [[0.0, \"#0d0887\"], [0.1111111111111111, \"#46039f\"], [0.2222222222222222, \"#7201a8\"], [0.3333333333333333, \"#9c179e\"], [0.4444444444444444, \"#bd3786\"], [0.5555555555555556, \"#d8576b\"], [0.6666666666666666, \"#ed7953\"], [0.7777777777777778, \"#fb9f3a\"], [0.8888888888888888, \"#fdca26\"], [1.0, \"#f0f921\"]], \"type\": \"histogram2dcontour\"}], \"mesh3d\": [{\"colorbar\": {\"outlinewidth\": 0, \"ticks\": \"\"}, \"type\": \"mesh3d\"}], \"parcoords\": [{\"line\": {\"colorbar\": {\"outlinewidth\": 0, \"ticks\": \"\"}}, \"type\": \"parcoords\"}], \"pie\": [{\"automargin\": true, \"type\": \"pie\"}], \"scatter\": [{\"marker\": {\"colorbar\": {\"outlinewidth\": 0, \"ticks\": \"\"}}, \"type\": \"scatter\"}], \"scatter3d\": [{\"line\": {\"colorbar\": {\"outlinewidth\": 0, \"ticks\": \"\"}}, \"marker\": {\"colorbar\": {\"outlinewidth\": 0, \"ticks\": \"\"}}, \"type\": \"scatter3d\"}], \"scattercarpet\": [{\"marker\": {\"colorbar\": {\"outlinewidth\": 0, \"ticks\": \"\"}}, \"type\": \"scattercarpet\"}], \"scattergeo\": [{\"marker\": {\"colorbar\": {\"outlinewidth\": 0, \"ticks\": \"\"}}, \"type\": \"scattergeo\"}], \"scattergl\": [{\"marker\": {\"colorbar\": {\"outlinewidth\": 0, \"ticks\": \"\"}}, \"type\": \"scattergl\"}], \"scattermapbox\": [{\"marker\": {\"colorbar\": {\"outlinewidth\": 0, \"ticks\": \"\"}}, \"type\": \"scattermapbox\"}], \"scatterpolar\": [{\"marker\": {\"colorbar\": {\"outlinewidth\": 0, \"ticks\": \"\"}}, \"type\": \"scatterpolar\"}], \"scatterpolargl\": [{\"marker\": {\"colorbar\": {\"outlinewidth\": 0, \"ticks\": \"\"}}, \"type\": \"scatterpolargl\"}], \"scatterternary\": [{\"marker\": {\"colorbar\": {\"outlinewidth\": 0, \"ticks\": \"\"}}, \"type\": \"scatterternary\"}], \"surface\": [{\"colorbar\": {\"outlinewidth\": 0, \"ticks\": \"\"}, \"colorscale\": [[0.0, \"#0d0887\"], [0.1111111111111111, \"#46039f\"], [0.2222222222222222, \"#7201a8\"], [0.3333333333333333, \"#9c179e\"], [0.4444444444444444, \"#bd3786\"], [0.5555555555555556, \"#d8576b\"], [0.6666666666666666, \"#ed7953\"], [0.7777777777777778, \"#fb9f3a\"], [0.8888888888888888, \"#fdca26\"], [1.0, \"#f0f921\"]], \"type\": \"surface\"}], \"table\": [{\"cells\": {\"fill\": {\"color\": \"#EBF0F8\"}, \"line\": {\"color\": \"white\"}}, \"header\": {\"fill\": {\"color\": \"#C8D4E3\"}, \"line\": {\"color\": \"white\"}}, \"type\": \"table\"}]}, \"layout\": {\"annotationdefaults\": {\"arrowcolor\": \"#2a3f5f\", \"arrowhead\": 0, \"arrowwidth\": 1}, \"coloraxis\": {\"colorbar\": {\"outlinewidth\": 0, \"ticks\": \"\"}}, \"colorscale\": {\"diverging\": [[0, \"#8e0152\"], [0.1, \"#c51b7d\"], [0.2, \"#de77ae\"], [0.3, \"#f1b6da\"], [0.4, \"#fde0ef\"], [0.5, \"#f7f7f7\"], [0.6, \"#e6f5d0\"], [0.7, \"#b8e186\"], [0.8, \"#7fbc41\"], [0.9, \"#4d9221\"], [1, \"#276419\"]], \"sequential\": [[0.0, \"#0d0887\"], [0.1111111111111111, \"#46039f\"], [0.2222222222222222, \"#7201a8\"], [0.3333333333333333, \"#9c179e\"], [0.4444444444444444, \"#bd3786\"], [0.5555555555555556, \"#d8576b\"], [0.6666666666666666, \"#ed7953\"], [0.7777777777777778, \"#fb9f3a\"], [0.8888888888888888, \"#fdca26\"], [1.0, \"#f0f921\"]], \"sequentialminus\": [[0.0, \"#0d0887\"], [0.1111111111111111, \"#46039f\"], [0.2222222222222222, \"#7201a8\"], [0.3333333333333333, \"#9c179e\"], [0.4444444444444444, \"#bd3786\"], [0.5555555555555556, \"#d8576b\"], [0.6666666666666666, \"#ed7953\"], [0.7777777777777778, \"#fb9f3a\"], [0.8888888888888888, \"#fdca26\"], [1.0, \"#f0f921\"]]}, \"colorway\": [\"#636efa\", \"#EF553B\", \"#00cc96\", \"#ab63fa\", \"#FFA15A\", \"#19d3f3\", \"#FF6692\", \"#B6E880\", \"#FF97FF\", \"#FECB52\"], \"font\": {\"color\": \"#2a3f5f\"}, \"geo\": {\"bgcolor\": \"white\", \"lakecolor\": \"white\", \"landcolor\": \"#E5ECF6\", \"showlakes\": true, \"showland\": true, \"subunitcolor\": \"white\"}, \"hoverlabel\": {\"align\": \"left\"}, \"hovermode\": \"closest\", \"mapbox\": {\"style\": \"light\"}, \"paper_bgcolor\": \"white\", \"plot_bgcolor\": \"#E5ECF6\", \"polar\": {\"angularaxis\": {\"gridcolor\": \"white\", \"linecolor\": \"white\", \"ticks\": \"\"}, \"bgcolor\": \"#E5ECF6\", \"radialaxis\": {\"gridcolor\": \"white\", \"linecolor\": \"white\", \"ticks\": \"\"}}, \"scene\": {\"xaxis\": {\"backgroundcolor\": \"#E5ECF6\", \"gridcolor\": \"white\", \"gridwidth\": 2, \"linecolor\": \"white\", \"showbackground\": true, \"ticks\": \"\", \"zerolinecolor\": \"white\"}, \"yaxis\": {\"backgroundcolor\": \"#E5ECF6\", \"gridcolor\": \"white\", \"gridwidth\": 2, \"linecolor\": \"white\", \"showbackground\": true, \"ticks\": \"\", \"zerolinecolor\": \"white\"}, \"zaxis\": {\"backgroundcolor\": \"#E5ECF6\", \"gridcolor\": \"white\", \"gridwidth\": 2, \"linecolor\": \"white\", \"showbackground\": true, \"ticks\": \"\", \"zerolinecolor\": \"white\"}}, \"shapedefaults\": {\"line\": {\"color\": \"#2a3f5f\"}}, \"ternary\": {\"aaxis\": {\"gridcolor\": \"white\", \"linecolor\": \"white\", \"ticks\": \"\"}, \"baxis\": {\"gridcolor\": \"white\", \"linecolor\": \"white\", \"ticks\": \"\"}, \"bgcolor\": \"#E5ECF6\", \"caxis\": {\"gridcolor\": \"white\", \"linecolor\": \"white\", \"ticks\": \"\"}}, \"title\": {\"x\": 0.05}, \"xaxis\": {\"automargin\": true, \"gridcolor\": \"white\", \"linecolor\": \"white\", \"ticks\": \"\", \"title\": {\"standoff\": 15}, \"zerolinecolor\": \"white\", \"zerolinewidth\": 2}, \"yaxis\": {\"automargin\": true, \"gridcolor\": \"white\", \"linecolor\": \"white\", \"ticks\": \"\", \"title\": {\"standoff\": 15}, \"zerolinecolor\": \"white\", \"zerolinewidth\": 2}}}, \"xaxis\": {\"anchor\": \"y\", \"domain\": [0.0, 1.0], \"title\": {\"text\": \"x\"}}, \"yaxis\": {\"anchor\": \"x\", \"domain\": [0.0, 1.0], \"title\": {\"text\": \"acc_deceased\"}}},\n",
              "                        {\"responsive\": true}\n",
              "                    ).then(function(){\n",
              "                            \n",
              "var gd = document.getElementById('a9868c01-f4dc-4815-8135-1eeab7cd29bc');\n",
              "var x = new MutationObserver(function (mutations, observer) {{\n",
              "        var display = window.getComputedStyle(gd).display;\n",
              "        if (!display || display === 'none') {{\n",
              "            console.log([gd, 'removed!']);\n",
              "            Plotly.purge(gd);\n",
              "            observer.disconnect();\n",
              "        }}\n",
              "}});\n",
              "\n",
              "// Listen for the removal of the full notebook cells\n",
              "var notebookContainer = gd.closest('#notebook-container');\n",
              "if (notebookContainer) {{\n",
              "    x.observe(notebookContainer, {childList: true});\n",
              "}}\n",
              "\n",
              "// Listen for the clearing of the current output cell\n",
              "var outputEl = gd.closest('.output');\n",
              "if (outputEl) {{\n",
              "    x.observe(outputEl, {childList: true});\n",
              "}}\n",
              "\n",
              "                        })\n",
              "                };\n",
              "                });\n",
              "            </script>\n",
              "        </div>"
            ],
            "application/vnd.plotly.v1+json": {
              "data": [
                {
                  "hovertemplate": "x=%{x}<br>acc_deceased=%{y}",
                  "showlegend": false,
                  "legendgroup": "",
                  "name": "",
                  "yaxis": "y",
                  "hoverlabel": {
                    "namelength": 0
                  },
                  "stackgroup": "1",
                  "mode": "lines",
                  "xaxis": "x",
                  "y": [
                    0,
                    0,
                    0,
                    0,
                    0,
                    0,
                    0,
                    0,
                    0,
                    2,
                    4,
                    4,
                    5,
                    5,
                    5,
                    7,
                    19,
                    25,
                    32,
                    38,
                    48,
                    49,
                    55,
                    58,
                    78,
                    87,
                    102,
                    114,
                    122
                  ],
                  "x": [
                    "2020-03-02T00:00:00",
                    "2020-03-03T00:00:00",
                    "2020-03-04T00:00:00",
                    "2020-03-05T00:00:00",
                    "2020-03-06T00:00:00",
                    "2020-03-07T00:00:00",
                    "2020-03-08T00:00:00",
                    "2020-03-09T00:00:00",
                    "2020-03-10T00:00:00",
                    "2020-03-11T00:00:00",
                    "2020-03-12T00:00:00",
                    "2020-03-13T00:00:00",
                    "2020-03-14T00:00:00",
                    "2020-03-15T00:00:00",
                    "2020-03-16T00:00:00",
                    "2020-03-17T00:00:00",
                    "2020-03-18T00:00:00",
                    "2020-03-19T00:00:00",
                    "2020-03-20T00:00:00",
                    "2020-03-21T00:00:00",
                    "2020-03-22T00:00:00",
                    "2020-03-23T00:00:00",
                    "2020-03-24T00:00:00",
                    "2020-03-25T00:00:00",
                    "2020-03-26T00:00:00",
                    "2020-03-27T00:00:00",
                    "2020-03-28T00:00:00",
                    "2020-03-29T00:00:00",
                    "2020-03-30T00:00:00"
                  ],
                  "line": {
                    "color": "#636efa"
                  },
                  "type": "scatter",
                  "orientation": "v"
                }
              ],
              "config": {
                "plotlyServerURL": "https://plot.ly"
              },
              "layout": {
                "yaxis": {
                  "domain": [
                    0,
                    1
                  ],
                  "anchor": "x",
                  "title": {
                    "text": "acc_deceased"
                  }
                },
                "margin": {
                  "t": 60
                },
                "legend": {
                  "tracegroupgap": 0
                },
                "template": {
                  "layout": {
                    "shapedefaults": {
                      "line": {
                        "color": "#2a3f5f"
                      }
                    },
                    "polar": {
                      "radialaxis": {
                        "ticks": "",
                        "gridcolor": "white",
                        "linecolor": "white"
                      },
                      "bgcolor": "#E5ECF6",
                      "angularaxis": {
                        "ticks": "",
                        "gridcolor": "white",
                        "linecolor": "white"
                      }
                    },
                    "colorway": [
                      "#636efa",
                      "#EF553B",
                      "#00cc96",
                      "#ab63fa",
                      "#FFA15A",
                      "#19d3f3",
                      "#FF6692",
                      "#B6E880",
                      "#FF97FF",
                      "#FECB52"
                    ],
                    "xaxis": {
                      "automargin": true,
                      "title": {
                        "standoff": 15
                      },
                      "zerolinewidth": 2,
                      "ticks": "",
                      "zerolinecolor": "white",
                      "gridcolor": "white",
                      "linecolor": "white"
                    },
                    "colorscale": {
                      "diverging": [
                        [
                          0,
                          "#8e0152"
                        ],
                        [
                          0.1,
                          "#c51b7d"
                        ],
                        [
                          0.2,
                          "#de77ae"
                        ],
                        [
                          0.3,
                          "#f1b6da"
                        ],
                        [
                          0.4,
                          "#fde0ef"
                        ],
                        [
                          0.5,
                          "#f7f7f7"
                        ],
                        [
                          0.6,
                          "#e6f5d0"
                        ],
                        [
                          0.7,
                          "#b8e186"
                        ],
                        [
                          0.8,
                          "#7fbc41"
                        ],
                        [
                          0.9,
                          "#4d9221"
                        ],
                        [
                          1,
                          "#276419"
                        ]
                      ],
                      "sequential": [
                        [
                          0,
                          "#0d0887"
                        ],
                        [
                          0.1111111111111111,
                          "#46039f"
                        ],
                        [
                          0.2222222222222222,
                          "#7201a8"
                        ],
                        [
                          0.3333333333333333,
                          "#9c179e"
                        ],
                        [
                          0.4444444444444444,
                          "#bd3786"
                        ],
                        [
                          0.5555555555555556,
                          "#d8576b"
                        ],
                        [
                          0.6666666666666666,
                          "#ed7953"
                        ],
                        [
                          0.7777777777777778,
                          "#fb9f3a"
                        ],
                        [
                          0.8888888888888888,
                          "#fdca26"
                        ],
                        [
                          1,
                          "#f0f921"
                        ]
                      ],
                      "sequentialminus": [
                        [
                          0,
                          "#0d0887"
                        ],
                        [
                          0.1111111111111111,
                          "#46039f"
                        ],
                        [
                          0.2222222222222222,
                          "#7201a8"
                        ],
                        [
                          0.3333333333333333,
                          "#9c179e"
                        ],
                        [
                          0.4444444444444444,
                          "#bd3786"
                        ],
                        [
                          0.5555555555555556,
                          "#d8576b"
                        ],
                        [
                          0.6666666666666666,
                          "#ed7953"
                        ],
                        [
                          0.7777777777777778,
                          "#fb9f3a"
                        ],
                        [
                          0.8888888888888888,
                          "#fdca26"
                        ],
                        [
                          1,
                          "#f0f921"
                        ]
                      ]
                    },
                    "paper_bgcolor": "white",
                    "plot_bgcolor": "#E5ECF6",
                    "title": {
                      "x": 0.05
                    },
                    "scene": {
                      "zaxis": {
                        "backgroundcolor": "#E5ECF6",
                        "ticks": "",
                        "gridwidth": 2,
                        "showbackground": true,
                        "zerolinecolor": "white",
                        "gridcolor": "white",
                        "linecolor": "white"
                      },
                      "xaxis": {
                        "backgroundcolor": "#E5ECF6",
                        "ticks": "",
                        "gridwidth": 2,
                        "showbackground": true,
                        "zerolinecolor": "white",
                        "gridcolor": "white",
                        "linecolor": "white"
                      },
                      "yaxis": {
                        "backgroundcolor": "#E5ECF6",
                        "ticks": "",
                        "gridwidth": 2,
                        "showbackground": true,
                        "zerolinecolor": "white",
                        "gridcolor": "white",
                        "linecolor": "white"
                      }
                    },
                    "yaxis": {
                      "automargin": true,
                      "title": {
                        "standoff": 15
                      },
                      "zerolinewidth": 2,
                      "ticks": "",
                      "zerolinecolor": "white",
                      "gridcolor": "white",
                      "linecolor": "white"
                    },
                    "annotationdefaults": {
                      "arrowwidth": 1,
                      "arrowhead": 0,
                      "arrowcolor": "#2a3f5f"
                    },
                    "hoverlabel": {
                      "align": "left"
                    },
                    "ternary": {
                      "bgcolor": "#E5ECF6",
                      "baxis": {
                        "ticks": "",
                        "gridcolor": "white",
                        "linecolor": "white"
                      },
                      "caxis": {
                        "ticks": "",
                        "gridcolor": "white",
                        "linecolor": "white"
                      },
                      "aaxis": {
                        "ticks": "",
                        "gridcolor": "white",
                        "linecolor": "white"
                      }
                    },
                    "mapbox": {
                      "style": "light"
                    },
                    "hovermode": "closest",
                    "font": {
                      "color": "#2a3f5f"
                    },
                    "geo": {
                      "showland": true,
                      "landcolor": "#E5ECF6",
                      "showlakes": true,
                      "bgcolor": "white",
                      "subunitcolor": "white",
                      "lakecolor": "white"
                    },
                    "coloraxis": {
                      "colorbar": {
                        "outlinewidth": 0,
                        "ticks": ""
                      }
                    }
                  },
                  "data": {
                    "mesh3d": [
                      {
                        "colorbar": {
                          "outlinewidth": 0,
                          "ticks": ""
                        },
                        "type": "mesh3d"
                      }
                    ],
                    "scattercarpet": [
                      {
                        "marker": {
                          "colorbar": {
                            "outlinewidth": 0,
                            "ticks": ""
                          }
                        },
                        "type": "scattercarpet"
                      }
                    ],
                    "pie": [
                      {
                        "automargin": true,
                        "type": "pie"
                      }
                    ],
                    "surface": [
                      {
                        "colorbar": {
                          "outlinewidth": 0,
                          "ticks": ""
                        },
                        "type": "surface",
                        "colorscale": [
                          [
                            0,
                            "#0d0887"
                          ],
                          [
                            0.1111111111111111,
                            "#46039f"
                          ],
                          [
                            0.2222222222222222,
                            "#7201a8"
                          ],
                          [
                            0.3333333333333333,
                            "#9c179e"
                          ],
                          [
                            0.4444444444444444,
                            "#bd3786"
                          ],
                          [
                            0.5555555555555556,
                            "#d8576b"
                          ],
                          [
                            0.6666666666666666,
                            "#ed7953"
                          ],
                          [
                            0.7777777777777778,
                            "#fb9f3a"
                          ],
                          [
                            0.8888888888888888,
                            "#fdca26"
                          ],
                          [
                            1,
                            "#f0f921"
                          ]
                        ]
                      }
                    ],
                    "table": [
                      {
                        "header": {
                          "line": {
                            "color": "white"
                          },
                          "fill": {
                            "color": "#C8D4E3"
                          }
                        },
                        "cells": {
                          "line": {
                            "color": "white"
                          },
                          "fill": {
                            "color": "#EBF0F8"
                          }
                        },
                        "type": "table"
                      }
                    ],
                    "scatterpolargl": [
                      {
                        "marker": {
                          "colorbar": {
                            "outlinewidth": 0,
                            "ticks": ""
                          }
                        },
                        "type": "scatterpolargl"
                      }
                    ],
                    "contour": [
                      {
                        "colorbar": {
                          "outlinewidth": 0,
                          "ticks": ""
                        },
                        "type": "contour",
                        "colorscale": [
                          [
                            0,
                            "#0d0887"
                          ],
                          [
                            0.1111111111111111,
                            "#46039f"
                          ],
                          [
                            0.2222222222222222,
                            "#7201a8"
                          ],
                          [
                            0.3333333333333333,
                            "#9c179e"
                          ],
                          [
                            0.4444444444444444,
                            "#bd3786"
                          ],
                          [
                            0.5555555555555556,
                            "#d8576b"
                          ],
                          [
                            0.6666666666666666,
                            "#ed7953"
                          ],
                          [
                            0.7777777777777778,
                            "#fb9f3a"
                          ],
                          [
                            0.8888888888888888,
                            "#fdca26"
                          ],
                          [
                            1,
                            "#f0f921"
                          ]
                        ]
                      }
                    ],
                    "carpet": [
                      {
                        "type": "carpet",
                        "baxis": {
                          "minorgridcolor": "white",
                          "gridcolor": "white",
                          "linecolor": "white",
                          "endlinecolor": "#2a3f5f",
                          "startlinecolor": "#2a3f5f"
                        },
                        "aaxis": {
                          "minorgridcolor": "white",
                          "gridcolor": "white",
                          "linecolor": "white",
                          "endlinecolor": "#2a3f5f",
                          "startlinecolor": "#2a3f5f"
                        }
                      }
                    ],
                    "contourcarpet": [
                      {
                        "colorbar": {
                          "outlinewidth": 0,
                          "ticks": ""
                        },
                        "type": "contourcarpet"
                      }
                    ],
                    "heatmap": [
                      {
                        "colorbar": {
                          "outlinewidth": 0,
                          "ticks": ""
                        },
                        "type": "heatmap",
                        "colorscale": [
                          [
                            0,
                            "#0d0887"
                          ],
                          [
                            0.1111111111111111,
                            "#46039f"
                          ],
                          [
                            0.2222222222222222,
                            "#7201a8"
                          ],
                          [
                            0.3333333333333333,
                            "#9c179e"
                          ],
                          [
                            0.4444444444444444,
                            "#bd3786"
                          ],
                          [
                            0.5555555555555556,
                            "#d8576b"
                          ],
                          [
                            0.6666666666666666,
                            "#ed7953"
                          ],
                          [
                            0.7777777777777778,
                            "#fb9f3a"
                          ],
                          [
                            0.8888888888888888,
                            "#fdca26"
                          ],
                          [
                            1,
                            "#f0f921"
                          ]
                        ]
                      }
                    ],
                    "scattermapbox": [
                      {
                        "marker": {
                          "colorbar": {
                            "outlinewidth": 0,
                            "ticks": ""
                          }
                        },
                        "type": "scattermapbox"
                      }
                    ],
                    "scatter3d": [
                      {
                        "marker": {
                          "colorbar": {
                            "outlinewidth": 0,
                            "ticks": ""
                          }
                        },
                        "line": {
                          "colorbar": {
                            "outlinewidth": 0,
                            "ticks": ""
                          }
                        },
                        "type": "scatter3d"
                      }
                    ],
                    "scattergl": [
                      {
                        "marker": {
                          "colorbar": {
                            "outlinewidth": 0,
                            "ticks": ""
                          }
                        },
                        "type": "scattergl"
                      }
                    ],
                    "scatterternary": [
                      {
                        "marker": {
                          "colorbar": {
                            "outlinewidth": 0,
                            "ticks": ""
                          }
                        },
                        "type": "scatterternary"
                      }
                    ],
                    "histogram": [
                      {
                        "marker": {
                          "colorbar": {
                            "outlinewidth": 0,
                            "ticks": ""
                          }
                        },
                        "type": "histogram"
                      }
                    ],
                    "heatmapgl": [
                      {
                        "colorbar": {
                          "outlinewidth": 0,
                          "ticks": ""
                        },
                        "type": "heatmapgl",
                        "colorscale": [
                          [
                            0,
                            "#0d0887"
                          ],
                          [
                            0.1111111111111111,
                            "#46039f"
                          ],
                          [
                            0.2222222222222222,
                            "#7201a8"
                          ],
                          [
                            0.3333333333333333,
                            "#9c179e"
                          ],
                          [
                            0.4444444444444444,
                            "#bd3786"
                          ],
                          [
                            0.5555555555555556,
                            "#d8576b"
                          ],
                          [
                            0.6666666666666666,
                            "#ed7953"
                          ],
                          [
                            0.7777777777777778,
                            "#fb9f3a"
                          ],
                          [
                            0.8888888888888888,
                            "#fdca26"
                          ],
                          [
                            1,
                            "#f0f921"
                          ]
                        ]
                      }
                    ],
                    "scatterpolar": [
                      {
                        "marker": {
                          "colorbar": {
                            "outlinewidth": 0,
                            "ticks": ""
                          }
                        },
                        "type": "scatterpolar"
                      }
                    ],
                    "histogram2d": [
                      {
                        "colorbar": {
                          "outlinewidth": 0,
                          "ticks": ""
                        },
                        "type": "histogram2d",
                        "colorscale": [
                          [
                            0,
                            "#0d0887"
                          ],
                          [
                            0.1111111111111111,
                            "#46039f"
                          ],
                          [
                            0.2222222222222222,
                            "#7201a8"
                          ],
                          [
                            0.3333333333333333,
                            "#9c179e"
                          ],
                          [
                            0.4444444444444444,
                            "#bd3786"
                          ],
                          [
                            0.5555555555555556,
                            "#d8576b"
                          ],
                          [
                            0.6666666666666666,
                            "#ed7953"
                          ],
                          [
                            0.7777777777777778,
                            "#fb9f3a"
                          ],
                          [
                            0.8888888888888888,
                            "#fdca26"
                          ],
                          [
                            1,
                            "#f0f921"
                          ]
                        ]
                      }
                    ],
                    "scattergeo": [
                      {
                        "marker": {
                          "colorbar": {
                            "outlinewidth": 0,
                            "ticks": ""
                          }
                        },
                        "type": "scattergeo"
                      }
                    ],
                    "bar": [
                      {
                        "marker": {
                          "line": {
                            "color": "#E5ECF6",
                            "width": 0.5
                          }
                        },
                        "type": "bar",
                        "error_x": {
                          "color": "#2a3f5f"
                        },
                        "error_y": {
                          "color": "#2a3f5f"
                        }
                      }
                    ],
                    "choropleth": [
                      {
                        "colorbar": {
                          "outlinewidth": 0,
                          "ticks": ""
                        },
                        "type": "choropleth"
                      }
                    ],
                    "parcoords": [
                      {
                        "line": {
                          "colorbar": {
                            "outlinewidth": 0,
                            "ticks": ""
                          }
                        },
                        "type": "parcoords"
                      }
                    ],
                    "barpolar": [
                      {
                        "marker": {
                          "line": {
                            "color": "#E5ECF6",
                            "width": 0.5
                          }
                        },
                        "type": "barpolar"
                      }
                    ],
                    "histogram2dcontour": [
                      {
                        "colorbar": {
                          "outlinewidth": 0,
                          "ticks": ""
                        },
                        "type": "histogram2dcontour",
                        "colorscale": [
                          [
                            0,
                            "#0d0887"
                          ],
                          [
                            0.1111111111111111,
                            "#46039f"
                          ],
                          [
                            0.2222222222222222,
                            "#7201a8"
                          ],
                          [
                            0.3333333333333333,
                            "#9c179e"
                          ],
                          [
                            0.4444444444444444,
                            "#bd3786"
                          ],
                          [
                            0.5555555555555556,
                            "#d8576b"
                          ],
                          [
                            0.6666666666666666,
                            "#ed7953"
                          ],
                          [
                            0.7777777777777778,
                            "#fb9f3a"
                          ],
                          [
                            0.8888888888888888,
                            "#fdca26"
                          ],
                          [
                            1,
                            "#f0f921"
                          ]
                        ]
                      }
                    ],
                    "scatter": [
                      {
                        "marker": {
                          "colorbar": {
                            "outlinewidth": 0,
                            "ticks": ""
                          }
                        },
                        "type": "scatter"
                      }
                    ]
                  }
                },
                "xaxis": {
                  "domain": [
                    0,
                    1
                  ],
                  "anchor": "y",
                  "title": {
                    "text": "x"
                  }
                }
              }
            }
          },
          "metadata": {
            "tags": []
          }
        }
      ]
    },
    {
      "cell_type": "code",
      "metadata": {
        "id": "INdlv6emltmL",
        "colab_type": "code",
        "outputId": "69a59427-64cb-4d2a-bd61-52a9c83d2f18",
        "colab": {
          "base_uri": "https://localhost:8080/",
          "height": 204
        }
      },
      "source": [
        "df_prophet = data.rename(columns={\"date\": \"ds\", \"acc_deceased\": \"y\"})\n",
        "df_prophet.tail()"
      ],
      "execution_count": 246,
      "outputs": [
        {
          "output_type": "execute_result",
          "data": {
            "text/html": [
              "<div>\n",
              "<style scoped>\n",
              "    .dataframe tbody tr th:only-of-type {\n",
              "        vertical-align: middle;\n",
              "    }\n",
              "\n",
              "    .dataframe tbody tr th {\n",
              "        vertical-align: top;\n",
              "    }\n",
              "\n",
              "    .dataframe thead th {\n",
              "        text-align: right;\n",
              "    }\n",
              "</style>\n",
              "<table border=\"1\" class=\"dataframe\">\n",
              "  <thead>\n",
              "    <tr style=\"text-align: right;\">\n",
              "      <th></th>\n",
              "      <th>ds</th>\n",
              "      <th>y</th>\n",
              "    </tr>\n",
              "  </thead>\n",
              "  <tbody>\n",
              "    <tr>\n",
              "      <th>24</th>\n",
              "      <td>26-Mar-20</td>\n",
              "      <td>78</td>\n",
              "    </tr>\n",
              "    <tr>\n",
              "      <th>25</th>\n",
              "      <td>27-Mar-20</td>\n",
              "      <td>87</td>\n",
              "    </tr>\n",
              "    <tr>\n",
              "      <th>26</th>\n",
              "      <td>28-Mar-20</td>\n",
              "      <td>102</td>\n",
              "    </tr>\n",
              "    <tr>\n",
              "      <th>27</th>\n",
              "      <td>29-Mar-20</td>\n",
              "      <td>114</td>\n",
              "    </tr>\n",
              "    <tr>\n",
              "      <th>28</th>\n",
              "      <td>30-Mar-20</td>\n",
              "      <td>122</td>\n",
              "    </tr>\n",
              "  </tbody>\n",
              "</table>\n",
              "</div>"
            ],
            "text/plain": [
              "           ds    y\n",
              "24  26-Mar-20   78\n",
              "25  27-Mar-20   87\n",
              "26  28-Mar-20  102\n",
              "27  29-Mar-20  114\n",
              "28  30-Mar-20  122"
            ]
          },
          "metadata": {
            "tags": []
          },
          "execution_count": 246
        }
      ]
    },
    {
      "cell_type": "code",
      "metadata": {
        "id": "mrRPls90ltmq",
        "colab_type": "code",
        "outputId": "20b3d6cd-7c6d-4440-b6b8-1f0be1f737a6",
        "colab": {
          "base_uri": "https://localhost:8080/",
          "height": 514
        }
      },
      "source": [
        "from fbprophet.plot import plot_plotly\n",
        "from fbprophet.plot import add_changepoints_to_plot\n",
        "\n",
        "m = Prophet(\n",
        "    changepoint_prior_scale=0.3, # increasing it will make the trend more flexible\n",
        "    changepoint_range=0.99, # place potential changepoints in the first 95% of the time series\n",
        "    yearly_seasonality=False,\n",
        "    weekly_seasonality=False,\n",
        "    daily_seasonality=True,\n",
        "    seasonality_mode='additive'\n",
        ")\n",
        "\n",
        "m.fit(df_prophet)\n",
        "\n",
        "future = m.make_future_dataframe(periods=15)\n",
        "forecast = m.predict(future)\n",
        "\n",
        "\n",
        "forecast[['ds', 'yhat', 'yhat_lower', 'yhat_upper']].tail(15)"
      ],
      "execution_count": 247,
      "outputs": [
        {
          "output_type": "execute_result",
          "data": {
            "text/html": [
              "<div>\n",
              "<style scoped>\n",
              "    .dataframe tbody tr th:only-of-type {\n",
              "        vertical-align: middle;\n",
              "    }\n",
              "\n",
              "    .dataframe tbody tr th {\n",
              "        vertical-align: top;\n",
              "    }\n",
              "\n",
              "    .dataframe thead th {\n",
              "        text-align: right;\n",
              "    }\n",
              "</style>\n",
              "<table border=\"1\" class=\"dataframe\">\n",
              "  <thead>\n",
              "    <tr style=\"text-align: right;\">\n",
              "      <th></th>\n",
              "      <th>ds</th>\n",
              "      <th>yhat</th>\n",
              "      <th>yhat_lower</th>\n",
              "      <th>yhat_upper</th>\n",
              "    </tr>\n",
              "  </thead>\n",
              "  <tbody>\n",
              "    <tr>\n",
              "      <th>29</th>\n",
              "      <td>2020-03-31</td>\n",
              "      <td>134.592257</td>\n",
              "      <td>132.635004</td>\n",
              "      <td>136.593150</td>\n",
              "    </tr>\n",
              "    <tr>\n",
              "      <th>30</th>\n",
              "      <td>2020-04-01</td>\n",
              "      <td>145.654609</td>\n",
              "      <td>143.302031</td>\n",
              "      <td>148.459194</td>\n",
              "    </tr>\n",
              "    <tr>\n",
              "      <th>31</th>\n",
              "      <td>2020-04-02</td>\n",
              "      <td>156.716961</td>\n",
              "      <td>153.075232</td>\n",
              "      <td>161.089983</td>\n",
              "    </tr>\n",
              "    <tr>\n",
              "      <th>32</th>\n",
              "      <td>2020-04-03</td>\n",
              "      <td>167.779313</td>\n",
              "      <td>162.449999</td>\n",
              "      <td>173.975409</td>\n",
              "    </tr>\n",
              "    <tr>\n",
              "      <th>33</th>\n",
              "      <td>2020-04-04</td>\n",
              "      <td>178.841666</td>\n",
              "      <td>171.202181</td>\n",
              "      <td>187.127454</td>\n",
              "    </tr>\n",
              "    <tr>\n",
              "      <th>34</th>\n",
              "      <td>2020-04-05</td>\n",
              "      <td>189.904018</td>\n",
              "      <td>179.545878</td>\n",
              "      <td>200.823254</td>\n",
              "    </tr>\n",
              "    <tr>\n",
              "      <th>35</th>\n",
              "      <td>2020-04-06</td>\n",
              "      <td>200.966370</td>\n",
              "      <td>187.889558</td>\n",
              "      <td>214.502246</td>\n",
              "    </tr>\n",
              "    <tr>\n",
              "      <th>36</th>\n",
              "      <td>2020-04-07</td>\n",
              "      <td>212.028723</td>\n",
              "      <td>195.571827</td>\n",
              "      <td>228.436224</td>\n",
              "    </tr>\n",
              "    <tr>\n",
              "      <th>37</th>\n",
              "      <td>2020-04-08</td>\n",
              "      <td>223.091075</td>\n",
              "      <td>203.461005</td>\n",
              "      <td>243.983636</td>\n",
              "    </tr>\n",
              "    <tr>\n",
              "      <th>38</th>\n",
              "      <td>2020-04-09</td>\n",
              "      <td>234.153427</td>\n",
              "      <td>211.307516</td>\n",
              "      <td>257.922008</td>\n",
              "    </tr>\n",
              "    <tr>\n",
              "      <th>39</th>\n",
              "      <td>2020-04-10</td>\n",
              "      <td>245.215779</td>\n",
              "      <td>217.497435</td>\n",
              "      <td>271.952085</td>\n",
              "    </tr>\n",
              "    <tr>\n",
              "      <th>40</th>\n",
              "      <td>2020-04-11</td>\n",
              "      <td>256.278132</td>\n",
              "      <td>225.636229</td>\n",
              "      <td>287.126485</td>\n",
              "    </tr>\n",
              "    <tr>\n",
              "      <th>41</th>\n",
              "      <td>2020-04-12</td>\n",
              "      <td>267.340484</td>\n",
              "      <td>232.607522</td>\n",
              "      <td>302.844191</td>\n",
              "    </tr>\n",
              "    <tr>\n",
              "      <th>42</th>\n",
              "      <td>2020-04-13</td>\n",
              "      <td>278.402836</td>\n",
              "      <td>239.857129</td>\n",
              "      <td>318.942104</td>\n",
              "    </tr>\n",
              "    <tr>\n",
              "      <th>43</th>\n",
              "      <td>2020-04-14</td>\n",
              "      <td>289.465189</td>\n",
              "      <td>245.881780</td>\n",
              "      <td>334.418779</td>\n",
              "    </tr>\n",
              "  </tbody>\n",
              "</table>\n",
              "</div>"
            ],
            "text/plain": [
              "           ds        yhat  yhat_lower  yhat_upper\n",
              "29 2020-03-31  134.592257  132.635004  136.593150\n",
              "30 2020-04-01  145.654609  143.302031  148.459194\n",
              "31 2020-04-02  156.716961  153.075232  161.089983\n",
              "32 2020-04-03  167.779313  162.449999  173.975409\n",
              "33 2020-04-04  178.841666  171.202181  187.127454\n",
              "34 2020-04-05  189.904018  179.545878  200.823254\n",
              "35 2020-04-06  200.966370  187.889558  214.502246\n",
              "36 2020-04-07  212.028723  195.571827  228.436224\n",
              "37 2020-04-08  223.091075  203.461005  243.983636\n",
              "38 2020-04-09  234.153427  211.307516  257.922008\n",
              "39 2020-04-10  245.215779  217.497435  271.952085\n",
              "40 2020-04-11  256.278132  225.636229  287.126485\n",
              "41 2020-04-12  267.340484  232.607522  302.844191\n",
              "42 2020-04-13  278.402836  239.857129  318.942104\n",
              "43 2020-04-14  289.465189  245.881780  334.418779"
            ]
          },
          "metadata": {
            "tags": []
          },
          "execution_count": 247
        }
      ]
    },
    {
      "cell_type": "code",
      "metadata": {
        "id": "13hCvPmCltnT",
        "colab_type": "code",
        "outputId": "c4e9da26-e70b-458d-f029-2fd28815b25f",
        "colab": {
          "base_uri": "https://localhost:8080/",
          "height": 1000
        }
      },
      "source": [
        "fig = plot_plotly(m, forecast)\n",
        "py.iplot(fig) \n",
        "\n",
        "fig = m.plot(forecast)\n",
        "a = add_changepoints_to_plot(fig.gca(), m, forecast)"
      ],
      "execution_count": 248,
      "outputs": [
        {
          "output_type": "display_data",
          "data": {
            "text/html": [
              "<div>\n",
              "        \n",
              "        \n",
              "            <div id=\"e2c9aa31-5dff-4ed2-9528-74a41808e003\" class=\"plotly-graph-div\" style=\"height:600px; width:900px;\"></div>\n",
              "            <script type=\"text/javascript\">\n",
              "                require([\"plotly\"], function(Plotly) {\n",
              "                    window.PLOTLYENV=window.PLOTLYENV || {};\n",
              "                    \n",
              "                if (document.getElementById(\"e2c9aa31-5dff-4ed2-9528-74a41808e003\")) {\n",
              "                    Plotly.newPlot(\n",
              "                        'e2c9aa31-5dff-4ed2-9528-74a41808e003',\n",
              "                        [{\"marker\": {\"color\": \"black\", \"size\": 4}, \"mode\": \"markers\", \"name\": \"Actual\", \"type\": \"scatter\", \"x\": [\"2020-03-02T00:00:00\", \"2020-03-03T00:00:00\", \"2020-03-04T00:00:00\", \"2020-03-05T00:00:00\", \"2020-03-06T00:00:00\", \"2020-03-07T00:00:00\", \"2020-03-08T00:00:00\", \"2020-03-09T00:00:00\", \"2020-03-10T00:00:00\", \"2020-03-11T00:00:00\", \"2020-03-12T00:00:00\", \"2020-03-13T00:00:00\", \"2020-03-14T00:00:00\", \"2020-03-15T00:00:00\", \"2020-03-16T00:00:00\", \"2020-03-17T00:00:00\", \"2020-03-18T00:00:00\", \"2020-03-19T00:00:00\", \"2020-03-20T00:00:00\", \"2020-03-21T00:00:00\", \"2020-03-22T00:00:00\", \"2020-03-23T00:00:00\", \"2020-03-24T00:00:00\", \"2020-03-25T00:00:00\", \"2020-03-26T00:00:00\", \"2020-03-27T00:00:00\", \"2020-03-28T00:00:00\", \"2020-03-29T00:00:00\", \"2020-03-30T00:00:00\"], \"y\": [0, 0, 0, 0, 0, 0, 0, 0, 0, 2, 4, 4, 5, 5, 5, 7, 19, 25, 32, 38, 48, 49, 55, 58, 78, 87, 102, 114, 122]}, {\"hoverinfo\": \"skip\", \"line\": {\"width\": 0}, \"mode\": \"lines\", \"type\": \"scatter\", \"x\": [\"2020-03-02T00:00:00\", \"2020-03-03T00:00:00\", \"2020-03-04T00:00:00\", \"2020-03-05T00:00:00\", \"2020-03-06T00:00:00\", \"2020-03-07T00:00:00\", \"2020-03-08T00:00:00\", \"2020-03-09T00:00:00\", \"2020-03-10T00:00:00\", \"2020-03-11T00:00:00\", \"2020-03-12T00:00:00\", \"2020-03-13T00:00:00\", \"2020-03-14T00:00:00\", \"2020-03-15T00:00:00\", \"2020-03-16T00:00:00\", \"2020-03-17T00:00:00\", \"2020-03-18T00:00:00\", \"2020-03-19T00:00:00\", \"2020-03-20T00:00:00\", \"2020-03-21T00:00:00\", \"2020-03-22T00:00:00\", \"2020-03-23T00:00:00\", \"2020-03-24T00:00:00\", \"2020-03-25T00:00:00\", \"2020-03-26T00:00:00\", \"2020-03-27T00:00:00\", \"2020-03-28T00:00:00\", \"2020-03-29T00:00:00\", \"2020-03-30T00:00:00\", \"2020-03-31T00:00:00\", \"2020-04-01T00:00:00\", \"2020-04-02T00:00:00\", \"2020-04-03T00:00:00\", \"2020-04-04T00:00:00\", \"2020-04-05T00:00:00\", \"2020-04-06T00:00:00\", \"2020-04-07T00:00:00\", \"2020-04-08T00:00:00\", \"2020-04-09T00:00:00\", \"2020-04-10T00:00:00\", \"2020-04-11T00:00:00\", \"2020-04-12T00:00:00\", \"2020-04-13T00:00:00\", \"2020-04-14T00:00:00\"], \"y\": [-1.842096119310662, -1.8921197195140538, -1.9429017772432229, -1.9929585911015306, -1.8529841383439785, -1.8230035232472677, -1.766451508017111, -1.361172488015398, -0.7754987315521458, 0.07090083464392258, 1.0469273808772797, 1.9273021296670765, 2.54678736719874, 3.2502657492119558, 4.175040465308227, 7.69242828356093, 15.15074052099635, 22.900350527328857, 29.841518767766466, 37.23124547085134, 42.82372946323732, 48.33552041647434, 53.944545186282866, 59.49889285243878, 72.93035134735378, 86.30348060945651, 99.54709760320775, 110.62334972425343, 121.70036383942745, 132.63500355478004, 143.30203129908492, 153.07523209597176, 162.44999873106153, 171.2021812950827, 179.54587797494426, 187.88955795440322, 195.57182650610517, 203.46100493034842, 211.30751562026273, 217.4974345095116, 225.63622923430634, 232.60752244168583, 239.85712889928143, 245.88178027695173]}, {\"fill\": \"tonexty\", \"fillcolor\": \"rgba(0, 114, 178, 0.2)\", \"line\": {\"color\": \"#0072B2\", \"width\": 2}, \"mode\": \"lines\", \"name\": \"Predicted\", \"type\": \"scatter\", \"x\": [\"2020-03-02T00:00:00\", \"2020-03-03T00:00:00\", \"2020-03-04T00:00:00\", \"2020-03-05T00:00:00\", \"2020-03-06T00:00:00\", \"2020-03-07T00:00:00\", \"2020-03-08T00:00:00\", \"2020-03-09T00:00:00\", \"2020-03-10T00:00:00\", \"2020-03-11T00:00:00\", \"2020-03-12T00:00:00\", \"2020-03-13T00:00:00\", \"2020-03-14T00:00:00\", \"2020-03-15T00:00:00\", \"2020-03-16T00:00:00\", \"2020-03-17T00:00:00\", \"2020-03-18T00:00:00\", \"2020-03-19T00:00:00\", \"2020-03-20T00:00:00\", \"2020-03-21T00:00:00\", \"2020-03-22T00:00:00\", \"2020-03-23T00:00:00\", \"2020-03-24T00:00:00\", \"2020-03-25T00:00:00\", \"2020-03-26T00:00:00\", \"2020-03-27T00:00:00\", \"2020-03-28T00:00:00\", \"2020-03-29T00:00:00\", \"2020-03-30T00:00:00\", \"2020-03-31T00:00:00\", \"2020-04-01T00:00:00\", \"2020-04-02T00:00:00\", \"2020-04-03T00:00:00\", \"2020-04-04T00:00:00\", \"2020-04-05T00:00:00\", \"2020-04-06T00:00:00\", \"2020-04-07T00:00:00\", \"2020-04-08T00:00:00\", \"2020-04-09T00:00:00\", \"2020-04-10T00:00:00\", \"2020-04-11T00:00:00\", \"2020-04-12T00:00:00\", \"2020-04-13T00:00:00\", \"2020-04-14T00:00:00\"], \"y\": [-0.11325504108068284, -0.08898994332922837, -0.06472464596739154, -0.04045935636347614, -0.016193887016594355, 0.008288645248122103, 0.03391853970603481, 0.5594857951102202, 1.0850530505143967, 1.9007811210688315, 2.716509175534646, 3.532230239860689, 4.347447603028879, 5.162664690395755, 5.977881728299199, 9.510075484182286, 17.031566859898362, 24.552484503194304, 31.81178243164804, 39.068997039587394, 44.6321448441844, 50.195292648781376, 55.75844055470154, 61.32226272850685, 74.68160837338822, 88.03962025205053, 101.3976322147009, 112.46755204523953, 123.52990432720703, 134.59225660917454, 145.65460889114203, 156.71696117310955, 167.779313455077, 178.84166573704456, 189.904018019012, 200.96637030097952, 212.02872258294704, 223.0910748649145, 234.15342714688208, 245.21577942884952, 256.27813171081704, 267.3404839927845, 278.402836274752, 289.4651885567195]}, {\"fill\": \"tonexty\", \"fillcolor\": \"rgba(0, 114, 178, 0.2)\", \"hoverinfo\": \"skip\", \"line\": {\"width\": 0}, \"mode\": \"lines\", \"type\": \"scatter\", \"x\": [\"2020-03-02T00:00:00\", \"2020-03-03T00:00:00\", \"2020-03-04T00:00:00\", \"2020-03-05T00:00:00\", \"2020-03-06T00:00:00\", \"2020-03-07T00:00:00\", \"2020-03-08T00:00:00\", \"2020-03-09T00:00:00\", \"2020-03-10T00:00:00\", \"2020-03-11T00:00:00\", \"2020-03-12T00:00:00\", \"2020-03-13T00:00:00\", \"2020-03-14T00:00:00\", \"2020-03-15T00:00:00\", \"2020-03-16T00:00:00\", \"2020-03-17T00:00:00\", \"2020-03-18T00:00:00\", \"2020-03-19T00:00:00\", \"2020-03-20T00:00:00\", \"2020-03-21T00:00:00\", \"2020-03-22T00:00:00\", \"2020-03-23T00:00:00\", \"2020-03-24T00:00:00\", \"2020-03-25T00:00:00\", \"2020-03-26T00:00:00\", \"2020-03-27T00:00:00\", \"2020-03-28T00:00:00\", \"2020-03-29T00:00:00\", \"2020-03-30T00:00:00\", \"2020-03-31T00:00:00\", \"2020-04-01T00:00:00\", \"2020-04-02T00:00:00\", \"2020-04-03T00:00:00\", \"2020-04-04T00:00:00\", \"2020-04-05T00:00:00\", \"2020-04-06T00:00:00\", \"2020-04-07T00:00:00\", \"2020-04-08T00:00:00\", \"2020-04-09T00:00:00\", \"2020-04-10T00:00:00\", \"2020-04-11T00:00:00\", \"2020-04-12T00:00:00\", \"2020-04-13T00:00:00\", \"2020-04-14T00:00:00\"], \"y\": [1.6795014078388195, 1.6643795976648306, 1.715237718520502, 1.748218828704474, 1.8544544344888447, 1.8862953309995238, 1.8113299310806197, 2.4175379994752584, 2.748778291917509, 3.554760284438586, 4.536347158634774, 5.378824144986301, 6.226831415262376, 6.890847591170686, 7.810818601070314, 11.326245197242631, 18.811928071930804, 26.382864701406636, 33.700197960580205, 40.80479799237807, 46.47235277918648, 52.07243346513654, 57.44327257559365, 63.101925869128394, 76.50148628340659, 89.82460560040775, 103.198835162525, 114.20532963102802, 125.46612342834237, 136.5931498084913, 148.45919357078253, 161.089982674775, 173.97540858771185, 187.12745386420494, 200.82325401109165, 214.50224590247757, 228.43622370310985, 243.9836356358561, 257.92200781342143, 271.9520851359963, 287.1264847105169, 302.8441907038744, 318.94210405937025, 334.41877891239517]}],\n",
              "                        {\"height\": 600, \"showlegend\": false, \"template\": {\"data\": {\"bar\": [{\"error_x\": {\"color\": \"#2a3f5f\"}, \"error_y\": {\"color\": \"#2a3f5f\"}, \"marker\": {\"line\": {\"color\": \"#E5ECF6\", \"width\": 0.5}}, \"type\": \"bar\"}], \"barpolar\": [{\"marker\": {\"line\": {\"color\": \"#E5ECF6\", \"width\": 0.5}}, \"type\": \"barpolar\"}], \"carpet\": [{\"aaxis\": {\"endlinecolor\": \"#2a3f5f\", \"gridcolor\": \"white\", \"linecolor\": \"white\", \"minorgridcolor\": \"white\", \"startlinecolor\": \"#2a3f5f\"}, \"baxis\": {\"endlinecolor\": \"#2a3f5f\", \"gridcolor\": \"white\", \"linecolor\": \"white\", \"minorgridcolor\": \"white\", \"startlinecolor\": \"#2a3f5f\"}, \"type\": \"carpet\"}], \"choropleth\": [{\"colorbar\": {\"outlinewidth\": 0, \"ticks\": \"\"}, \"type\": \"choropleth\"}], \"contour\": [{\"colorbar\": {\"outlinewidth\": 0, \"ticks\": \"\"}, \"colorscale\": [[0.0, \"#0d0887\"], [0.1111111111111111, \"#46039f\"], [0.2222222222222222, \"#7201a8\"], [0.3333333333333333, \"#9c179e\"], [0.4444444444444444, \"#bd3786\"], [0.5555555555555556, \"#d8576b\"], [0.6666666666666666, \"#ed7953\"], [0.7777777777777778, \"#fb9f3a\"], [0.8888888888888888, \"#fdca26\"], [1.0, \"#f0f921\"]], \"type\": \"contour\"}], \"contourcarpet\": [{\"colorbar\": {\"outlinewidth\": 0, \"ticks\": \"\"}, \"type\": \"contourcarpet\"}], \"heatmap\": [{\"colorbar\": {\"outlinewidth\": 0, \"ticks\": \"\"}, \"colorscale\": [[0.0, \"#0d0887\"], [0.1111111111111111, \"#46039f\"], [0.2222222222222222, \"#7201a8\"], [0.3333333333333333, \"#9c179e\"], [0.4444444444444444, \"#bd3786\"], [0.5555555555555556, \"#d8576b\"], [0.6666666666666666, \"#ed7953\"], [0.7777777777777778, \"#fb9f3a\"], [0.8888888888888888, \"#fdca26\"], [1.0, \"#f0f921\"]], \"type\": \"heatmap\"}], \"heatmapgl\": [{\"colorbar\": {\"outlinewidth\": 0, \"ticks\": \"\"}, \"colorscale\": [[0.0, \"#0d0887\"], [0.1111111111111111, \"#46039f\"], [0.2222222222222222, \"#7201a8\"], [0.3333333333333333, \"#9c179e\"], [0.4444444444444444, \"#bd3786\"], [0.5555555555555556, \"#d8576b\"], [0.6666666666666666, \"#ed7953\"], [0.7777777777777778, \"#fb9f3a\"], [0.8888888888888888, \"#fdca26\"], [1.0, \"#f0f921\"]], \"type\": \"heatmapgl\"}], \"histogram\": [{\"marker\": {\"colorbar\": {\"outlinewidth\": 0, \"ticks\": \"\"}}, \"type\": \"histogram\"}], \"histogram2d\": [{\"colorbar\": {\"outlinewidth\": 0, \"ticks\": \"\"}, \"colorscale\": [[0.0, \"#0d0887\"], [0.1111111111111111, \"#46039f\"], [0.2222222222222222, \"#7201a8\"], [0.3333333333333333, \"#9c179e\"], [0.4444444444444444, \"#bd3786\"], [0.5555555555555556, \"#d8576b\"], [0.6666666666666666, \"#ed7953\"], [0.7777777777777778, \"#fb9f3a\"], [0.8888888888888888, \"#fdca26\"], [1.0, \"#f0f921\"]], \"type\": \"histogram2d\"}], \"histogram2dcontour\": [{\"colorbar\": {\"outlinewidth\": 0, \"ticks\": \"\"}, \"colorscale\": [[0.0, \"#0d0887\"], [0.1111111111111111, \"#46039f\"], [0.2222222222222222, \"#7201a8\"], [0.3333333333333333, \"#9c179e\"], [0.4444444444444444, \"#bd3786\"], [0.5555555555555556, \"#d8576b\"], [0.6666666666666666, \"#ed7953\"], [0.7777777777777778, \"#fb9f3a\"], [0.8888888888888888, \"#fdca26\"], [1.0, \"#f0f921\"]], \"type\": \"histogram2dcontour\"}], \"mesh3d\": [{\"colorbar\": {\"outlinewidth\": 0, \"ticks\": \"\"}, \"type\": \"mesh3d\"}], \"parcoords\": [{\"line\": {\"colorbar\": {\"outlinewidth\": 0, \"ticks\": \"\"}}, \"type\": \"parcoords\"}], \"pie\": [{\"automargin\": true, \"type\": \"pie\"}], \"scatter\": [{\"marker\": {\"colorbar\": {\"outlinewidth\": 0, \"ticks\": \"\"}}, \"type\": \"scatter\"}], \"scatter3d\": [{\"line\": {\"colorbar\": {\"outlinewidth\": 0, \"ticks\": \"\"}}, \"marker\": {\"colorbar\": {\"outlinewidth\": 0, \"ticks\": \"\"}}, \"type\": \"scatter3d\"}], \"scattercarpet\": [{\"marker\": {\"colorbar\": {\"outlinewidth\": 0, \"ticks\": \"\"}}, \"type\": \"scattercarpet\"}], \"scattergeo\": [{\"marker\": {\"colorbar\": {\"outlinewidth\": 0, \"ticks\": \"\"}}, \"type\": \"scattergeo\"}], \"scattergl\": [{\"marker\": {\"colorbar\": {\"outlinewidth\": 0, \"ticks\": \"\"}}, \"type\": \"scattergl\"}], \"scattermapbox\": [{\"marker\": {\"colorbar\": {\"outlinewidth\": 0, \"ticks\": \"\"}}, \"type\": \"scattermapbox\"}], \"scatterpolar\": [{\"marker\": {\"colorbar\": {\"outlinewidth\": 0, \"ticks\": \"\"}}, \"type\": \"scatterpolar\"}], \"scatterpolargl\": [{\"marker\": {\"colorbar\": {\"outlinewidth\": 0, \"ticks\": \"\"}}, \"type\": \"scatterpolargl\"}], \"scatterternary\": [{\"marker\": {\"colorbar\": {\"outlinewidth\": 0, \"ticks\": \"\"}}, \"type\": \"scatterternary\"}], \"surface\": [{\"colorbar\": {\"outlinewidth\": 0, \"ticks\": \"\"}, \"colorscale\": [[0.0, \"#0d0887\"], [0.1111111111111111, \"#46039f\"], [0.2222222222222222, \"#7201a8\"], [0.3333333333333333, \"#9c179e\"], [0.4444444444444444, \"#bd3786\"], [0.5555555555555556, \"#d8576b\"], [0.6666666666666666, \"#ed7953\"], [0.7777777777777778, \"#fb9f3a\"], [0.8888888888888888, \"#fdca26\"], [1.0, \"#f0f921\"]], \"type\": \"surface\"}], \"table\": [{\"cells\": {\"fill\": {\"color\": \"#EBF0F8\"}, \"line\": {\"color\": \"white\"}}, \"header\": {\"fill\": {\"color\": \"#C8D4E3\"}, \"line\": {\"color\": \"white\"}}, \"type\": \"table\"}]}, \"layout\": {\"annotationdefaults\": {\"arrowcolor\": \"#2a3f5f\", \"arrowhead\": 0, \"arrowwidth\": 1}, \"coloraxis\": {\"colorbar\": {\"outlinewidth\": 0, \"ticks\": \"\"}}, \"colorscale\": {\"diverging\": [[0, \"#8e0152\"], [0.1, \"#c51b7d\"], [0.2, \"#de77ae\"], [0.3, \"#f1b6da\"], [0.4, \"#fde0ef\"], [0.5, \"#f7f7f7\"], [0.6, \"#e6f5d0\"], [0.7, \"#b8e186\"], [0.8, \"#7fbc41\"], [0.9, \"#4d9221\"], [1, \"#276419\"]], \"sequential\": [[0.0, \"#0d0887\"], [0.1111111111111111, \"#46039f\"], [0.2222222222222222, \"#7201a8\"], [0.3333333333333333, \"#9c179e\"], [0.4444444444444444, \"#bd3786\"], [0.5555555555555556, \"#d8576b\"], [0.6666666666666666, \"#ed7953\"], [0.7777777777777778, \"#fb9f3a\"], [0.8888888888888888, \"#fdca26\"], [1.0, \"#f0f921\"]], \"sequentialminus\": [[0.0, \"#0d0887\"], [0.1111111111111111, \"#46039f\"], [0.2222222222222222, \"#7201a8\"], [0.3333333333333333, \"#9c179e\"], [0.4444444444444444, \"#bd3786\"], [0.5555555555555556, \"#d8576b\"], [0.6666666666666666, \"#ed7953\"], [0.7777777777777778, \"#fb9f3a\"], [0.8888888888888888, \"#fdca26\"], [1.0, \"#f0f921\"]]}, \"colorway\": [\"#636efa\", \"#EF553B\", \"#00cc96\", \"#ab63fa\", \"#FFA15A\", \"#19d3f3\", \"#FF6692\", \"#B6E880\", \"#FF97FF\", \"#FECB52\"], \"font\": {\"color\": \"#2a3f5f\"}, \"geo\": {\"bgcolor\": \"white\", \"lakecolor\": \"white\", \"landcolor\": \"#E5ECF6\", \"showlakes\": true, \"showland\": true, \"subunitcolor\": \"white\"}, \"hoverlabel\": {\"align\": \"left\"}, \"hovermode\": \"closest\", \"mapbox\": {\"style\": \"light\"}, \"paper_bgcolor\": \"white\", \"plot_bgcolor\": \"#E5ECF6\", \"polar\": {\"angularaxis\": {\"gridcolor\": \"white\", \"linecolor\": \"white\", \"ticks\": \"\"}, \"bgcolor\": \"#E5ECF6\", \"radialaxis\": {\"gridcolor\": \"white\", \"linecolor\": \"white\", \"ticks\": \"\"}}, \"scene\": {\"xaxis\": {\"backgroundcolor\": \"#E5ECF6\", \"gridcolor\": \"white\", \"gridwidth\": 2, \"linecolor\": \"white\", \"showbackground\": true, \"ticks\": \"\", \"zerolinecolor\": \"white\"}, \"yaxis\": {\"backgroundcolor\": \"#E5ECF6\", \"gridcolor\": \"white\", \"gridwidth\": 2, \"linecolor\": \"white\", \"showbackground\": true, \"ticks\": \"\", \"zerolinecolor\": \"white\"}, \"zaxis\": {\"backgroundcolor\": \"#E5ECF6\", \"gridcolor\": \"white\", \"gridwidth\": 2, \"linecolor\": \"white\", \"showbackground\": true, \"ticks\": \"\", \"zerolinecolor\": \"white\"}}, \"shapedefaults\": {\"line\": {\"color\": \"#2a3f5f\"}}, \"ternary\": {\"aaxis\": {\"gridcolor\": \"white\", \"linecolor\": \"white\", \"ticks\": \"\"}, \"baxis\": {\"gridcolor\": \"white\", \"linecolor\": \"white\", \"ticks\": \"\"}, \"bgcolor\": \"#E5ECF6\", \"caxis\": {\"gridcolor\": \"white\", \"linecolor\": \"white\", \"ticks\": \"\"}}, \"title\": {\"x\": 0.05}, \"xaxis\": {\"automargin\": true, \"gridcolor\": \"white\", \"linecolor\": \"white\", \"ticks\": \"\", \"title\": {\"standoff\": 15}, \"zerolinecolor\": \"white\", \"zerolinewidth\": 2}, \"yaxis\": {\"automargin\": true, \"gridcolor\": \"white\", \"linecolor\": \"white\", \"ticks\": \"\", \"title\": {\"standoff\": 15}, \"zerolinecolor\": \"white\", \"zerolinewidth\": 2}}}, \"width\": 900, \"xaxis\": {\"rangeselector\": {\"buttons\": [{\"count\": 7, \"label\": \"1w\", \"step\": \"day\", \"stepmode\": \"backward\"}, {\"count\": 1, \"label\": \"1m\", \"step\": \"month\", \"stepmode\": \"backward\"}, {\"count\": 6, \"label\": \"6m\", \"step\": \"month\", \"stepmode\": \"backward\"}, {\"count\": 1, \"label\": \"1y\", \"step\": \"year\", \"stepmode\": \"backward\"}, {\"step\": \"all\"}]}, \"rangeslider\": {\"visible\": true}, \"title\": {\"text\": \"ds\"}, \"type\": \"date\"}, \"yaxis\": {\"title\": {\"text\": \"y\"}}},\n",
              "                        {\"responsive\": true}\n",
              "                    ).then(function(){\n",
              "                            \n",
              "var gd = document.getElementById('e2c9aa31-5dff-4ed2-9528-74a41808e003');\n",
              "var x = new MutationObserver(function (mutations, observer) {{\n",
              "        var display = window.getComputedStyle(gd).display;\n",
              "        if (!display || display === 'none') {{\n",
              "            console.log([gd, 'removed!']);\n",
              "            Plotly.purge(gd);\n",
              "            observer.disconnect();\n",
              "        }}\n",
              "}});\n",
              "\n",
              "// Listen for the removal of the full notebook cells\n",
              "var notebookContainer = gd.closest('#notebook-container');\n",
              "if (notebookContainer) {{\n",
              "    x.observe(notebookContainer, {childList: true});\n",
              "}}\n",
              "\n",
              "// Listen for the clearing of the current output cell\n",
              "var outputEl = gd.closest('.output');\n",
              "if (outputEl) {{\n",
              "    x.observe(outputEl, {childList: true});\n",
              "}}\n",
              "\n",
              "                        })\n",
              "                };\n",
              "                });\n",
              "            </script>\n",
              "        </div>"
            ],
            "application/vnd.plotly.v1+json": {
              "data": [
                {
                  "name": "Actual",
                  "y": [
                    0,
                    0,
                    0,
                    0,
                    0,
                    0,
                    0,
                    0,
                    0,
                    2,
                    4,
                    4,
                    5,
                    5,
                    5,
                    7,
                    19,
                    25,
                    32,
                    38,
                    48,
                    49,
                    55,
                    58,
                    78,
                    87,
                    102,
                    114,
                    122
                  ],
                  "mode": "markers",
                  "marker": {
                    "color": "black",
                    "size": 4
                  },
                  "x": [
                    "2020-03-02T00:00:00",
                    "2020-03-03T00:00:00",
                    "2020-03-04T00:00:00",
                    "2020-03-05T00:00:00",
                    "2020-03-06T00:00:00",
                    "2020-03-07T00:00:00",
                    "2020-03-08T00:00:00",
                    "2020-03-09T00:00:00",
                    "2020-03-10T00:00:00",
                    "2020-03-11T00:00:00",
                    "2020-03-12T00:00:00",
                    "2020-03-13T00:00:00",
                    "2020-03-14T00:00:00",
                    "2020-03-15T00:00:00",
                    "2020-03-16T00:00:00",
                    "2020-03-17T00:00:00",
                    "2020-03-18T00:00:00",
                    "2020-03-19T00:00:00",
                    "2020-03-20T00:00:00",
                    "2020-03-21T00:00:00",
                    "2020-03-22T00:00:00",
                    "2020-03-23T00:00:00",
                    "2020-03-24T00:00:00",
                    "2020-03-25T00:00:00",
                    "2020-03-26T00:00:00",
                    "2020-03-27T00:00:00",
                    "2020-03-28T00:00:00",
                    "2020-03-29T00:00:00",
                    "2020-03-30T00:00:00"
                  ],
                  "type": "scatter"
                },
                {
                  "mode": "lines",
                  "hoverinfo": "skip",
                  "y": [
                    -1.842096119310662,
                    -1.8921197195140538,
                    -1.9429017772432229,
                    -1.9929585911015306,
                    -1.8529841383439785,
                    -1.8230035232472677,
                    -1.766451508017111,
                    -1.361172488015398,
                    -0.7754987315521458,
                    0.07090083464392258,
                    1.0469273808772797,
                    1.9273021296670765,
                    2.54678736719874,
                    3.2502657492119558,
                    4.175040465308227,
                    7.69242828356093,
                    15.15074052099635,
                    22.900350527328857,
                    29.841518767766466,
                    37.23124547085134,
                    42.82372946323732,
                    48.33552041647434,
                    53.944545186282866,
                    59.49889285243878,
                    72.93035134735378,
                    86.30348060945651,
                    99.54709760320775,
                    110.62334972425343,
                    121.70036383942745,
                    132.63500355478004,
                    143.30203129908492,
                    153.07523209597176,
                    162.44999873106153,
                    171.2021812950827,
                    179.54587797494426,
                    187.88955795440322,
                    195.57182650610517,
                    203.46100493034842,
                    211.30751562026273,
                    217.4974345095116,
                    225.63622923430634,
                    232.60752244168583,
                    239.85712889928143,
                    245.88178027695173
                  ],
                  "x": [
                    "2020-03-02T00:00:00",
                    "2020-03-03T00:00:00",
                    "2020-03-04T00:00:00",
                    "2020-03-05T00:00:00",
                    "2020-03-06T00:00:00",
                    "2020-03-07T00:00:00",
                    "2020-03-08T00:00:00",
                    "2020-03-09T00:00:00",
                    "2020-03-10T00:00:00",
                    "2020-03-11T00:00:00",
                    "2020-03-12T00:00:00",
                    "2020-03-13T00:00:00",
                    "2020-03-14T00:00:00",
                    "2020-03-15T00:00:00",
                    "2020-03-16T00:00:00",
                    "2020-03-17T00:00:00",
                    "2020-03-18T00:00:00",
                    "2020-03-19T00:00:00",
                    "2020-03-20T00:00:00",
                    "2020-03-21T00:00:00",
                    "2020-03-22T00:00:00",
                    "2020-03-23T00:00:00",
                    "2020-03-24T00:00:00",
                    "2020-03-25T00:00:00",
                    "2020-03-26T00:00:00",
                    "2020-03-27T00:00:00",
                    "2020-03-28T00:00:00",
                    "2020-03-29T00:00:00",
                    "2020-03-30T00:00:00",
                    "2020-03-31T00:00:00",
                    "2020-04-01T00:00:00",
                    "2020-04-02T00:00:00",
                    "2020-04-03T00:00:00",
                    "2020-04-04T00:00:00",
                    "2020-04-05T00:00:00",
                    "2020-04-06T00:00:00",
                    "2020-04-07T00:00:00",
                    "2020-04-08T00:00:00",
                    "2020-04-09T00:00:00",
                    "2020-04-10T00:00:00",
                    "2020-04-11T00:00:00",
                    "2020-04-12T00:00:00",
                    "2020-04-13T00:00:00",
                    "2020-04-14T00:00:00"
                  ],
                  "line": {
                    "width": 0
                  },
                  "type": "scatter"
                },
                {
                  "name": "Predicted",
                  "mode": "lines",
                  "y": [
                    -0.11325504108068284,
                    -0.08898994332922837,
                    -0.06472464596739154,
                    -0.04045935636347614,
                    -0.016193887016594355,
                    0.008288645248122103,
                    0.03391853970603481,
                    0.5594857951102202,
                    1.0850530505143967,
                    1.9007811210688315,
                    2.716509175534646,
                    3.532230239860689,
                    4.347447603028879,
                    5.162664690395755,
                    5.977881728299199,
                    9.510075484182286,
                    17.031566859898362,
                    24.552484503194304,
                    31.81178243164804,
                    39.068997039587394,
                    44.6321448441844,
                    50.195292648781376,
                    55.75844055470154,
                    61.32226272850685,
                    74.68160837338822,
                    88.03962025205053,
                    101.3976322147009,
                    112.46755204523953,
                    123.52990432720703,
                    134.59225660917454,
                    145.65460889114203,
                    156.71696117310955,
                    167.779313455077,
                    178.84166573704456,
                    189.904018019012,
                    200.96637030097952,
                    212.02872258294704,
                    223.0910748649145,
                    234.15342714688208,
                    245.21577942884952,
                    256.27813171081704,
                    267.3404839927845,
                    278.402836274752,
                    289.4651885567195
                  ],
                  "x": [
                    "2020-03-02T00:00:00",
                    "2020-03-03T00:00:00",
                    "2020-03-04T00:00:00",
                    "2020-03-05T00:00:00",
                    "2020-03-06T00:00:00",
                    "2020-03-07T00:00:00",
                    "2020-03-08T00:00:00",
                    "2020-03-09T00:00:00",
                    "2020-03-10T00:00:00",
                    "2020-03-11T00:00:00",
                    "2020-03-12T00:00:00",
                    "2020-03-13T00:00:00",
                    "2020-03-14T00:00:00",
                    "2020-03-15T00:00:00",
                    "2020-03-16T00:00:00",
                    "2020-03-17T00:00:00",
                    "2020-03-18T00:00:00",
                    "2020-03-19T00:00:00",
                    "2020-03-20T00:00:00",
                    "2020-03-21T00:00:00",
                    "2020-03-22T00:00:00",
                    "2020-03-23T00:00:00",
                    "2020-03-24T00:00:00",
                    "2020-03-25T00:00:00",
                    "2020-03-26T00:00:00",
                    "2020-03-27T00:00:00",
                    "2020-03-28T00:00:00",
                    "2020-03-29T00:00:00",
                    "2020-03-30T00:00:00",
                    "2020-03-31T00:00:00",
                    "2020-04-01T00:00:00",
                    "2020-04-02T00:00:00",
                    "2020-04-03T00:00:00",
                    "2020-04-04T00:00:00",
                    "2020-04-05T00:00:00",
                    "2020-04-06T00:00:00",
                    "2020-04-07T00:00:00",
                    "2020-04-08T00:00:00",
                    "2020-04-09T00:00:00",
                    "2020-04-10T00:00:00",
                    "2020-04-11T00:00:00",
                    "2020-04-12T00:00:00",
                    "2020-04-13T00:00:00",
                    "2020-04-14T00:00:00"
                  ],
                  "line": {
                    "color": "#0072B2",
                    "width": 2
                  },
                  "fill": "tonexty",
                  "type": "scatter",
                  "fillcolor": "rgba(0, 114, 178, 0.2)"
                },
                {
                  "mode": "lines",
                  "hoverinfo": "skip",
                  "y": [
                    1.6795014078388195,
                    1.6643795976648306,
                    1.715237718520502,
                    1.748218828704474,
                    1.8544544344888447,
                    1.8862953309995238,
                    1.8113299310806197,
                    2.4175379994752584,
                    2.748778291917509,
                    3.554760284438586,
                    4.536347158634774,
                    5.378824144986301,
                    6.226831415262376,
                    6.890847591170686,
                    7.810818601070314,
                    11.326245197242631,
                    18.811928071930804,
                    26.382864701406636,
                    33.700197960580205,
                    40.80479799237807,
                    46.47235277918648,
                    52.07243346513654,
                    57.44327257559365,
                    63.101925869128394,
                    76.50148628340659,
                    89.82460560040775,
                    103.198835162525,
                    114.20532963102802,
                    125.46612342834237,
                    136.5931498084913,
                    148.45919357078253,
                    161.089982674775,
                    173.97540858771185,
                    187.12745386420494,
                    200.82325401109165,
                    214.50224590247757,
                    228.43622370310985,
                    243.9836356358561,
                    257.92200781342143,
                    271.9520851359963,
                    287.1264847105169,
                    302.8441907038744,
                    318.94210405937025,
                    334.41877891239517
                  ],
                  "x": [
                    "2020-03-02T00:00:00",
                    "2020-03-03T00:00:00",
                    "2020-03-04T00:00:00",
                    "2020-03-05T00:00:00",
                    "2020-03-06T00:00:00",
                    "2020-03-07T00:00:00",
                    "2020-03-08T00:00:00",
                    "2020-03-09T00:00:00",
                    "2020-03-10T00:00:00",
                    "2020-03-11T00:00:00",
                    "2020-03-12T00:00:00",
                    "2020-03-13T00:00:00",
                    "2020-03-14T00:00:00",
                    "2020-03-15T00:00:00",
                    "2020-03-16T00:00:00",
                    "2020-03-17T00:00:00",
                    "2020-03-18T00:00:00",
                    "2020-03-19T00:00:00",
                    "2020-03-20T00:00:00",
                    "2020-03-21T00:00:00",
                    "2020-03-22T00:00:00",
                    "2020-03-23T00:00:00",
                    "2020-03-24T00:00:00",
                    "2020-03-25T00:00:00",
                    "2020-03-26T00:00:00",
                    "2020-03-27T00:00:00",
                    "2020-03-28T00:00:00",
                    "2020-03-29T00:00:00",
                    "2020-03-30T00:00:00",
                    "2020-03-31T00:00:00",
                    "2020-04-01T00:00:00",
                    "2020-04-02T00:00:00",
                    "2020-04-03T00:00:00",
                    "2020-04-04T00:00:00",
                    "2020-04-05T00:00:00",
                    "2020-04-06T00:00:00",
                    "2020-04-07T00:00:00",
                    "2020-04-08T00:00:00",
                    "2020-04-09T00:00:00",
                    "2020-04-10T00:00:00",
                    "2020-04-11T00:00:00",
                    "2020-04-12T00:00:00",
                    "2020-04-13T00:00:00",
                    "2020-04-14T00:00:00"
                  ],
                  "line": {
                    "width": 0
                  },
                  "fill": "tonexty",
                  "type": "scatter",
                  "fillcolor": "rgba(0, 114, 178, 0.2)"
                }
              ],
              "config": {
                "plotlyServerURL": "https://plot.ly",
                "linkText": "Export to plot.ly",
                "showLink": false
              },
              "layout": {
                "showlegend": false,
                "template": {
                  "layout": {
                    "shapedefaults": {
                      "line": {
                        "color": "#2a3f5f"
                      }
                    },
                    "polar": {
                      "radialaxis": {
                        "ticks": "",
                        "gridcolor": "white",
                        "linecolor": "white"
                      },
                      "bgcolor": "#E5ECF6",
                      "angularaxis": {
                        "ticks": "",
                        "gridcolor": "white",
                        "linecolor": "white"
                      }
                    },
                    "colorway": [
                      "#636efa",
                      "#EF553B",
                      "#00cc96",
                      "#ab63fa",
                      "#FFA15A",
                      "#19d3f3",
                      "#FF6692",
                      "#B6E880",
                      "#FF97FF",
                      "#FECB52"
                    ],
                    "xaxis": {
                      "automargin": true,
                      "title": {
                        "standoff": 15
                      },
                      "zerolinewidth": 2,
                      "ticks": "",
                      "zerolinecolor": "white",
                      "gridcolor": "white",
                      "linecolor": "white"
                    },
                    "colorscale": {
                      "diverging": [
                        [
                          0,
                          "#8e0152"
                        ],
                        [
                          0.1,
                          "#c51b7d"
                        ],
                        [
                          0.2,
                          "#de77ae"
                        ],
                        [
                          0.3,
                          "#f1b6da"
                        ],
                        [
                          0.4,
                          "#fde0ef"
                        ],
                        [
                          0.5,
                          "#f7f7f7"
                        ],
                        [
                          0.6,
                          "#e6f5d0"
                        ],
                        [
                          0.7,
                          "#b8e186"
                        ],
                        [
                          0.8,
                          "#7fbc41"
                        ],
                        [
                          0.9,
                          "#4d9221"
                        ],
                        [
                          1,
                          "#276419"
                        ]
                      ],
                      "sequential": [
                        [
                          0,
                          "#0d0887"
                        ],
                        [
                          0.1111111111111111,
                          "#46039f"
                        ],
                        [
                          0.2222222222222222,
                          "#7201a8"
                        ],
                        [
                          0.3333333333333333,
                          "#9c179e"
                        ],
                        [
                          0.4444444444444444,
                          "#bd3786"
                        ],
                        [
                          0.5555555555555556,
                          "#d8576b"
                        ],
                        [
                          0.6666666666666666,
                          "#ed7953"
                        ],
                        [
                          0.7777777777777778,
                          "#fb9f3a"
                        ],
                        [
                          0.8888888888888888,
                          "#fdca26"
                        ],
                        [
                          1,
                          "#f0f921"
                        ]
                      ],
                      "sequentialminus": [
                        [
                          0,
                          "#0d0887"
                        ],
                        [
                          0.1111111111111111,
                          "#46039f"
                        ],
                        [
                          0.2222222222222222,
                          "#7201a8"
                        ],
                        [
                          0.3333333333333333,
                          "#9c179e"
                        ],
                        [
                          0.4444444444444444,
                          "#bd3786"
                        ],
                        [
                          0.5555555555555556,
                          "#d8576b"
                        ],
                        [
                          0.6666666666666666,
                          "#ed7953"
                        ],
                        [
                          0.7777777777777778,
                          "#fb9f3a"
                        ],
                        [
                          0.8888888888888888,
                          "#fdca26"
                        ],
                        [
                          1,
                          "#f0f921"
                        ]
                      ]
                    },
                    "paper_bgcolor": "white",
                    "plot_bgcolor": "#E5ECF6",
                    "title": {
                      "x": 0.05
                    },
                    "scene": {
                      "zaxis": {
                        "backgroundcolor": "#E5ECF6",
                        "ticks": "",
                        "gridwidth": 2,
                        "showbackground": true,
                        "zerolinecolor": "white",
                        "gridcolor": "white",
                        "linecolor": "white"
                      },
                      "xaxis": {
                        "backgroundcolor": "#E5ECF6",
                        "ticks": "",
                        "gridwidth": 2,
                        "showbackground": true,
                        "zerolinecolor": "white",
                        "gridcolor": "white",
                        "linecolor": "white"
                      },
                      "yaxis": {
                        "backgroundcolor": "#E5ECF6",
                        "ticks": "",
                        "gridwidth": 2,
                        "showbackground": true,
                        "zerolinecolor": "white",
                        "gridcolor": "white",
                        "linecolor": "white"
                      }
                    },
                    "yaxis": {
                      "automargin": true,
                      "title": {
                        "standoff": 15
                      },
                      "zerolinewidth": 2,
                      "ticks": "",
                      "zerolinecolor": "white",
                      "gridcolor": "white",
                      "linecolor": "white"
                    },
                    "annotationdefaults": {
                      "arrowwidth": 1,
                      "arrowhead": 0,
                      "arrowcolor": "#2a3f5f"
                    },
                    "hoverlabel": {
                      "align": "left"
                    },
                    "ternary": {
                      "bgcolor": "#E5ECF6",
                      "baxis": {
                        "ticks": "",
                        "gridcolor": "white",
                        "linecolor": "white"
                      },
                      "caxis": {
                        "ticks": "",
                        "gridcolor": "white",
                        "linecolor": "white"
                      },
                      "aaxis": {
                        "ticks": "",
                        "gridcolor": "white",
                        "linecolor": "white"
                      }
                    },
                    "mapbox": {
                      "style": "light"
                    },
                    "hovermode": "closest",
                    "font": {
                      "color": "#2a3f5f"
                    },
                    "geo": {
                      "showland": true,
                      "landcolor": "#E5ECF6",
                      "showlakes": true,
                      "bgcolor": "white",
                      "subunitcolor": "white",
                      "lakecolor": "white"
                    },
                    "coloraxis": {
                      "colorbar": {
                        "outlinewidth": 0,
                        "ticks": ""
                      }
                    }
                  },
                  "data": {
                    "mesh3d": [
                      {
                        "colorbar": {
                          "outlinewidth": 0,
                          "ticks": ""
                        },
                        "type": "mesh3d"
                      }
                    ],
                    "scattercarpet": [
                      {
                        "marker": {
                          "colorbar": {
                            "outlinewidth": 0,
                            "ticks": ""
                          }
                        },
                        "type": "scattercarpet"
                      }
                    ],
                    "pie": [
                      {
                        "automargin": true,
                        "type": "pie"
                      }
                    ],
                    "surface": [
                      {
                        "colorbar": {
                          "outlinewidth": 0,
                          "ticks": ""
                        },
                        "type": "surface",
                        "colorscale": [
                          [
                            0,
                            "#0d0887"
                          ],
                          [
                            0.1111111111111111,
                            "#46039f"
                          ],
                          [
                            0.2222222222222222,
                            "#7201a8"
                          ],
                          [
                            0.3333333333333333,
                            "#9c179e"
                          ],
                          [
                            0.4444444444444444,
                            "#bd3786"
                          ],
                          [
                            0.5555555555555556,
                            "#d8576b"
                          ],
                          [
                            0.6666666666666666,
                            "#ed7953"
                          ],
                          [
                            0.7777777777777778,
                            "#fb9f3a"
                          ],
                          [
                            0.8888888888888888,
                            "#fdca26"
                          ],
                          [
                            1,
                            "#f0f921"
                          ]
                        ]
                      }
                    ],
                    "table": [
                      {
                        "header": {
                          "line": {
                            "color": "white"
                          },
                          "fill": {
                            "color": "#C8D4E3"
                          }
                        },
                        "cells": {
                          "line": {
                            "color": "white"
                          },
                          "fill": {
                            "color": "#EBF0F8"
                          }
                        },
                        "type": "table"
                      }
                    ],
                    "scatterpolargl": [
                      {
                        "marker": {
                          "colorbar": {
                            "outlinewidth": 0,
                            "ticks": ""
                          }
                        },
                        "type": "scatterpolargl"
                      }
                    ],
                    "contour": [
                      {
                        "colorbar": {
                          "outlinewidth": 0,
                          "ticks": ""
                        },
                        "type": "contour",
                        "colorscale": [
                          [
                            0,
                            "#0d0887"
                          ],
                          [
                            0.1111111111111111,
                            "#46039f"
                          ],
                          [
                            0.2222222222222222,
                            "#7201a8"
                          ],
                          [
                            0.3333333333333333,
                            "#9c179e"
                          ],
                          [
                            0.4444444444444444,
                            "#bd3786"
                          ],
                          [
                            0.5555555555555556,
                            "#d8576b"
                          ],
                          [
                            0.6666666666666666,
                            "#ed7953"
                          ],
                          [
                            0.7777777777777778,
                            "#fb9f3a"
                          ],
                          [
                            0.8888888888888888,
                            "#fdca26"
                          ],
                          [
                            1,
                            "#f0f921"
                          ]
                        ]
                      }
                    ],
                    "carpet": [
                      {
                        "type": "carpet",
                        "baxis": {
                          "minorgridcolor": "white",
                          "gridcolor": "white",
                          "linecolor": "white",
                          "endlinecolor": "#2a3f5f",
                          "startlinecolor": "#2a3f5f"
                        },
                        "aaxis": {
                          "minorgridcolor": "white",
                          "gridcolor": "white",
                          "linecolor": "white",
                          "endlinecolor": "#2a3f5f",
                          "startlinecolor": "#2a3f5f"
                        }
                      }
                    ],
                    "contourcarpet": [
                      {
                        "colorbar": {
                          "outlinewidth": 0,
                          "ticks": ""
                        },
                        "type": "contourcarpet"
                      }
                    ],
                    "heatmap": [
                      {
                        "colorbar": {
                          "outlinewidth": 0,
                          "ticks": ""
                        },
                        "type": "heatmap",
                        "colorscale": [
                          [
                            0,
                            "#0d0887"
                          ],
                          [
                            0.1111111111111111,
                            "#46039f"
                          ],
                          [
                            0.2222222222222222,
                            "#7201a8"
                          ],
                          [
                            0.3333333333333333,
                            "#9c179e"
                          ],
                          [
                            0.4444444444444444,
                            "#bd3786"
                          ],
                          [
                            0.5555555555555556,
                            "#d8576b"
                          ],
                          [
                            0.6666666666666666,
                            "#ed7953"
                          ],
                          [
                            0.7777777777777778,
                            "#fb9f3a"
                          ],
                          [
                            0.8888888888888888,
                            "#fdca26"
                          ],
                          [
                            1,
                            "#f0f921"
                          ]
                        ]
                      }
                    ],
                    "scattermapbox": [
                      {
                        "marker": {
                          "colorbar": {
                            "outlinewidth": 0,
                            "ticks": ""
                          }
                        },
                        "type": "scattermapbox"
                      }
                    ],
                    "scatter3d": [
                      {
                        "marker": {
                          "colorbar": {
                            "outlinewidth": 0,
                            "ticks": ""
                          }
                        },
                        "line": {
                          "colorbar": {
                            "outlinewidth": 0,
                            "ticks": ""
                          }
                        },
                        "type": "scatter3d"
                      }
                    ],
                    "scattergl": [
                      {
                        "marker": {
                          "colorbar": {
                            "outlinewidth": 0,
                            "ticks": ""
                          }
                        },
                        "type": "scattergl"
                      }
                    ],
                    "scatterternary": [
                      {
                        "marker": {
                          "colorbar": {
                            "outlinewidth": 0,
                            "ticks": ""
                          }
                        },
                        "type": "scatterternary"
                      }
                    ],
                    "histogram": [
                      {
                        "marker": {
                          "colorbar": {
                            "outlinewidth": 0,
                            "ticks": ""
                          }
                        },
                        "type": "histogram"
                      }
                    ],
                    "heatmapgl": [
                      {
                        "colorbar": {
                          "outlinewidth": 0,
                          "ticks": ""
                        },
                        "type": "heatmapgl",
                        "colorscale": [
                          [
                            0,
                            "#0d0887"
                          ],
                          [
                            0.1111111111111111,
                            "#46039f"
                          ],
                          [
                            0.2222222222222222,
                            "#7201a8"
                          ],
                          [
                            0.3333333333333333,
                            "#9c179e"
                          ],
                          [
                            0.4444444444444444,
                            "#bd3786"
                          ],
                          [
                            0.5555555555555556,
                            "#d8576b"
                          ],
                          [
                            0.6666666666666666,
                            "#ed7953"
                          ],
                          [
                            0.7777777777777778,
                            "#fb9f3a"
                          ],
                          [
                            0.8888888888888888,
                            "#fdca26"
                          ],
                          [
                            1,
                            "#f0f921"
                          ]
                        ]
                      }
                    ],
                    "scatterpolar": [
                      {
                        "marker": {
                          "colorbar": {
                            "outlinewidth": 0,
                            "ticks": ""
                          }
                        },
                        "type": "scatterpolar"
                      }
                    ],
                    "histogram2d": [
                      {
                        "colorbar": {
                          "outlinewidth": 0,
                          "ticks": ""
                        },
                        "type": "histogram2d",
                        "colorscale": [
                          [
                            0,
                            "#0d0887"
                          ],
                          [
                            0.1111111111111111,
                            "#46039f"
                          ],
                          [
                            0.2222222222222222,
                            "#7201a8"
                          ],
                          [
                            0.3333333333333333,
                            "#9c179e"
                          ],
                          [
                            0.4444444444444444,
                            "#bd3786"
                          ],
                          [
                            0.5555555555555556,
                            "#d8576b"
                          ],
                          [
                            0.6666666666666666,
                            "#ed7953"
                          ],
                          [
                            0.7777777777777778,
                            "#fb9f3a"
                          ],
                          [
                            0.8888888888888888,
                            "#fdca26"
                          ],
                          [
                            1,
                            "#f0f921"
                          ]
                        ]
                      }
                    ],
                    "scattergeo": [
                      {
                        "marker": {
                          "colorbar": {
                            "outlinewidth": 0,
                            "ticks": ""
                          }
                        },
                        "type": "scattergeo"
                      }
                    ],
                    "bar": [
                      {
                        "marker": {
                          "line": {
                            "color": "#E5ECF6",
                            "width": 0.5
                          }
                        },
                        "type": "bar",
                        "error_x": {
                          "color": "#2a3f5f"
                        },
                        "error_y": {
                          "color": "#2a3f5f"
                        }
                      }
                    ],
                    "choropleth": [
                      {
                        "colorbar": {
                          "outlinewidth": 0,
                          "ticks": ""
                        },
                        "type": "choropleth"
                      }
                    ],
                    "parcoords": [
                      {
                        "line": {
                          "colorbar": {
                            "outlinewidth": 0,
                            "ticks": ""
                          }
                        },
                        "type": "parcoords"
                      }
                    ],
                    "barpolar": [
                      {
                        "marker": {
                          "line": {
                            "color": "#E5ECF6",
                            "width": 0.5
                          }
                        },
                        "type": "barpolar"
                      }
                    ],
                    "histogram2dcontour": [
                      {
                        "colorbar": {
                          "outlinewidth": 0,
                          "ticks": ""
                        },
                        "type": "histogram2dcontour",
                        "colorscale": [
                          [
                            0,
                            "#0d0887"
                          ],
                          [
                            0.1111111111111111,
                            "#46039f"
                          ],
                          [
                            0.2222222222222222,
                            "#7201a8"
                          ],
                          [
                            0.3333333333333333,
                            "#9c179e"
                          ],
                          [
                            0.4444444444444444,
                            "#bd3786"
                          ],
                          [
                            0.5555555555555556,
                            "#d8576b"
                          ],
                          [
                            0.6666666666666666,
                            "#ed7953"
                          ],
                          [
                            0.7777777777777778,
                            "#fb9f3a"
                          ],
                          [
                            0.8888888888888888,
                            "#fdca26"
                          ],
                          [
                            1,
                            "#f0f921"
                          ]
                        ]
                      }
                    ],
                    "scatter": [
                      {
                        "marker": {
                          "colorbar": {
                            "outlinewidth": 0,
                            "ticks": ""
                          }
                        },
                        "type": "scatter"
                      }
                    ]
                  }
                },
                "yaxis": {
                  "title": {
                    "text": "y"
                  }
                },
                "height": 600,
                "width": 900,
                "xaxis": {
                  "rangeselector": {
                    "buttons": [
                      {
                        "count": 7,
                        "step": "day",
                        "stepmode": "backward",
                        "label": "1w"
                      },
                      {
                        "count": 1,
                        "step": "month",
                        "stepmode": "backward",
                        "label": "1m"
                      },
                      {
                        "count": 6,
                        "step": "month",
                        "stepmode": "backward",
                        "label": "6m"
                      },
                      {
                        "count": 1,
                        "step": "year",
                        "stepmode": "backward",
                        "label": "1y"
                      },
                      {
                        "step": "all"
                      }
                    ]
                  },
                  "title": {
                    "text": "ds"
                  },
                  "type": "date",
                  "rangeslider": {
                    "visible": true
                  }
                }
              }
            }
          },
          "metadata": {
            "tags": []
          }
        },
        {
          "output_type": "display_data",
          "data": {
            "image/png": "[encoded data removed]",
            "text/plain": [
              "<Figure size 720x432 with 1 Axes>"
            ]
          },
          "metadata": {
            "tags": []
          }
        }
      ]
    },
    {
      "cell_type": "code",
      "metadata": {
        "id": "6IZXMzU_ltn8",
        "colab_type": "code",
        "outputId": "6943a68c-35ca-4ef1-ac6a-b28ccf09ad3a",
        "colab": {
          "base_uri": "https://localhost:8080/",
          "height": 597
        }
      },
      "source": [
        "forecast[29:40]"
      ],
      "execution_count": 249,
      "outputs": [
        {
          "output_type": "execute_result",
          "data": {
            "text/html": [
              "<div>\n",
              "<style scoped>\n",
              "    .dataframe tbody tr th:only-of-type {\n",
              "        vertical-align: middle;\n",
              "    }\n",
              "\n",
              "    .dataframe tbody tr th {\n",
              "        vertical-align: top;\n",
              "    }\n",
              "\n",
              "    .dataframe thead th {\n",
              "        text-align: right;\n",
              "    }\n",
              "</style>\n",
              "<table border=\"1\" class=\"dataframe\">\n",
              "  <thead>\n",
              "    <tr style=\"text-align: right;\">\n",
              "      <th></th>\n",
              "      <th>ds</th>\n",
              "      <th>trend</th>\n",
              "      <th>yhat_lower</th>\n",
              "      <th>yhat_upper</th>\n",
              "      <th>trend_lower</th>\n",
              "      <th>trend_upper</th>\n",
              "      <th>additive_terms</th>\n",
              "      <th>additive_terms_lower</th>\n",
              "      <th>additive_terms_upper</th>\n",
              "      <th>daily</th>\n",
              "      <th>daily_lower</th>\n",
              "      <th>daily_upper</th>\n",
              "      <th>multiplicative_terms</th>\n",
              "      <th>multiplicative_terms_lower</th>\n",
              "      <th>multiplicative_terms_upper</th>\n",
              "      <th>yhat</th>\n",
              "    </tr>\n",
              "  </thead>\n",
              "  <tbody>\n",
              "    <tr>\n",
              "      <th>29</th>\n",
              "      <td>2020-03-31</td>\n",
              "      <td>134.700703</td>\n",
              "      <td>132.635004</td>\n",
              "      <td>136.593150</td>\n",
              "      <td>134.285104</td>\n",
              "      <td>135.245747</td>\n",
              "      <td>-0.108446</td>\n",
              "      <td>-0.108446</td>\n",
              "      <td>-0.108446</td>\n",
              "      <td>-0.108446</td>\n",
              "      <td>-0.108446</td>\n",
              "      <td>-0.108446</td>\n",
              "      <td>0.0</td>\n",
              "      <td>0.0</td>\n",
              "      <td>0.0</td>\n",
              "      <td>134.592257</td>\n",
              "    </tr>\n",
              "    <tr>\n",
              "      <th>30</th>\n",
              "      <td>2020-04-01</td>\n",
              "      <td>145.763055</td>\n",
              "      <td>143.302031</td>\n",
              "      <td>148.459194</td>\n",
              "      <td>144.202779</td>\n",
              "      <td>147.792317</td>\n",
              "      <td>-0.108446</td>\n",
              "      <td>-0.108446</td>\n",
              "      <td>-0.108446</td>\n",
              "      <td>-0.108446</td>\n",
              "      <td>-0.108446</td>\n",
              "      <td>-0.108446</td>\n",
              "      <td>0.0</td>\n",
              "      <td>0.0</td>\n",
              "      <td>0.0</td>\n",
              "      <td>145.654609</td>\n",
              "    </tr>\n",
              "    <tr>\n",
              "      <th>31</th>\n",
              "      <td>2020-04-02</td>\n",
              "      <td>156.825408</td>\n",
              "      <td>153.075232</td>\n",
              "      <td>161.089983</td>\n",
              "      <td>153.554687</td>\n",
              "      <td>160.587891</td>\n",
              "      <td>-0.108446</td>\n",
              "      <td>-0.108446</td>\n",
              "      <td>-0.108446</td>\n",
              "      <td>-0.108446</td>\n",
              "      <td>-0.108446</td>\n",
              "      <td>-0.108446</td>\n",
              "      <td>0.0</td>\n",
              "      <td>0.0</td>\n",
              "      <td>0.0</td>\n",
              "      <td>156.716961</td>\n",
              "    </tr>\n",
              "    <tr>\n",
              "      <th>32</th>\n",
              "      <td>2020-04-03</td>\n",
              "      <td>167.887760</td>\n",
              "      <td>162.449999</td>\n",
              "      <td>173.975409</td>\n",
              "      <td>162.651256</td>\n",
              "      <td>173.789685</td>\n",
              "      <td>-0.108446</td>\n",
              "      <td>-0.108446</td>\n",
              "      <td>-0.108446</td>\n",
              "      <td>-0.108446</td>\n",
              "      <td>-0.108446</td>\n",
              "      <td>-0.108446</td>\n",
              "      <td>0.0</td>\n",
              "      <td>0.0</td>\n",
              "      <td>0.0</td>\n",
              "      <td>167.779313</td>\n",
              "    </tr>\n",
              "    <tr>\n",
              "      <th>33</th>\n",
              "      <td>2020-04-04</td>\n",
              "      <td>178.950112</td>\n",
              "      <td>171.202181</td>\n",
              "      <td>187.127454</td>\n",
              "      <td>171.828050</td>\n",
              "      <td>187.478213</td>\n",
              "      <td>-0.108446</td>\n",
              "      <td>-0.108446</td>\n",
              "      <td>-0.108446</td>\n",
              "      <td>-0.108446</td>\n",
              "      <td>-0.108446</td>\n",
              "      <td>-0.108446</td>\n",
              "      <td>0.0</td>\n",
              "      <td>0.0</td>\n",
              "      <td>0.0</td>\n",
              "      <td>178.841666</td>\n",
              "    </tr>\n",
              "    <tr>\n",
              "      <th>34</th>\n",
              "      <td>2020-04-05</td>\n",
              "      <td>190.012464</td>\n",
              "      <td>179.545878</td>\n",
              "      <td>200.823254</td>\n",
              "      <td>179.830847</td>\n",
              "      <td>200.885302</td>\n",
              "      <td>-0.108446</td>\n",
              "      <td>-0.108446</td>\n",
              "      <td>-0.108446</td>\n",
              "      <td>-0.108446</td>\n",
              "      <td>-0.108446</td>\n",
              "      <td>-0.108446</td>\n",
              "      <td>0.0</td>\n",
              "      <td>0.0</td>\n",
              "      <td>0.0</td>\n",
              "      <td>189.904018</td>\n",
              "    </tr>\n",
              "    <tr>\n",
              "      <th>35</th>\n",
              "      <td>2020-04-06</td>\n",
              "      <td>201.074817</td>\n",
              "      <td>187.889558</td>\n",
              "      <td>214.502246</td>\n",
              "      <td>188.157763</td>\n",
              "      <td>214.579256</td>\n",
              "      <td>-0.108446</td>\n",
              "      <td>-0.108446</td>\n",
              "      <td>-0.108446</td>\n",
              "      <td>-0.108446</td>\n",
              "      <td>-0.108446</td>\n",
              "      <td>-0.108446</td>\n",
              "      <td>0.0</td>\n",
              "      <td>0.0</td>\n",
              "      <td>0.0</td>\n",
              "      <td>200.966370</td>\n",
              "    </tr>\n",
              "    <tr>\n",
              "      <th>36</th>\n",
              "      <td>2020-04-07</td>\n",
              "      <td>212.137169</td>\n",
              "      <td>195.571827</td>\n",
              "      <td>228.436224</td>\n",
              "      <td>195.617364</td>\n",
              "      <td>228.724261</td>\n",
              "      <td>-0.108446</td>\n",
              "      <td>-0.108446</td>\n",
              "      <td>-0.108446</td>\n",
              "      <td>-0.108446</td>\n",
              "      <td>-0.108446</td>\n",
              "      <td>-0.108446</td>\n",
              "      <td>0.0</td>\n",
              "      <td>0.0</td>\n",
              "      <td>0.0</td>\n",
              "      <td>212.028723</td>\n",
              "    </tr>\n",
              "    <tr>\n",
              "      <th>37</th>\n",
              "      <td>2020-04-08</td>\n",
              "      <td>223.199521</td>\n",
              "      <td>203.461005</td>\n",
              "      <td>243.983636</td>\n",
              "      <td>203.328386</td>\n",
              "      <td>243.143795</td>\n",
              "      <td>-0.108446</td>\n",
              "      <td>-0.108446</td>\n",
              "      <td>-0.108446</td>\n",
              "      <td>-0.108446</td>\n",
              "      <td>-0.108446</td>\n",
              "      <td>-0.108446</td>\n",
              "      <td>0.0</td>\n",
              "      <td>0.0</td>\n",
              "      <td>0.0</td>\n",
              "      <td>223.091075</td>\n",
              "    </tr>\n",
              "    <tr>\n",
              "      <th>38</th>\n",
              "      <td>2020-04-09</td>\n",
              "      <td>234.261874</td>\n",
              "      <td>211.307516</td>\n",
              "      <td>257.922008</td>\n",
              "      <td>210.509330</td>\n",
              "      <td>257.818307</td>\n",
              "      <td>-0.108446</td>\n",
              "      <td>-0.108446</td>\n",
              "      <td>-0.108446</td>\n",
              "      <td>-0.108446</td>\n",
              "      <td>-0.108446</td>\n",
              "      <td>-0.108446</td>\n",
              "      <td>0.0</td>\n",
              "      <td>0.0</td>\n",
              "      <td>0.0</td>\n",
              "      <td>234.153427</td>\n",
              "    </tr>\n",
              "    <tr>\n",
              "      <th>39</th>\n",
              "      <td>2020-04-10</td>\n",
              "      <td>245.324226</td>\n",
              "      <td>217.497435</td>\n",
              "      <td>271.952085</td>\n",
              "      <td>217.718647</td>\n",
              "      <td>272.561325</td>\n",
              "      <td>-0.108446</td>\n",
              "      <td>-0.108446</td>\n",
              "      <td>-0.108446</td>\n",
              "      <td>-0.108446</td>\n",
              "      <td>-0.108446</td>\n",
              "      <td>-0.108446</td>\n",
              "      <td>0.0</td>\n",
              "      <td>0.0</td>\n",
              "      <td>0.0</td>\n",
              "      <td>245.215779</td>\n",
              "    </tr>\n",
              "  </tbody>\n",
              "</table>\n",
              "</div>"
            ],
            "text/plain": [
              "           ds       trend  ...  multiplicative_terms_upper        yhat\n",
              "29 2020-03-31  134.700703  ...                         0.0  134.592257\n",
              "30 2020-04-01  145.763055  ...                         0.0  145.654609\n",
              "31 2020-04-02  156.825408  ...                         0.0  156.716961\n",
              "32 2020-04-03  167.887760  ...                         0.0  167.779313\n",
              "33 2020-04-04  178.950112  ...                         0.0  178.841666\n",
              "34 2020-04-05  190.012464  ...                         0.0  189.904018\n",
              "35 2020-04-06  201.074817  ...                         0.0  200.966370\n",
              "36 2020-04-07  212.137169  ...                         0.0  212.028723\n",
              "37 2020-04-08  223.199521  ...                         0.0  223.091075\n",
              "38 2020-04-09  234.261874  ...                         0.0  234.153427\n",
              "39 2020-04-10  245.324226  ...                         0.0  245.215779\n",
              "\n",
              "[11 rows x 16 columns]"
            ]
          },
          "metadata": {
            "tags": []
          },
          "execution_count": 249
        }
      ]
    },
    {
      "cell_type": "code",
      "metadata": {
        "id": "Fgf_XYcXltoI",
        "colab_type": "code",
        "colab": {}
      },
      "source": [
        ""
      ],
      "execution_count": 0,
      "outputs": []
    },
    {
      "cell_type": "code",
      "metadata": {
        "id": "Cv7z4HcDltoq",
        "colab_type": "code",
        "colab": {}
      },
      "source": [
        ""
      ],
      "execution_count": 0,
      "outputs": []
    }
  ]
}