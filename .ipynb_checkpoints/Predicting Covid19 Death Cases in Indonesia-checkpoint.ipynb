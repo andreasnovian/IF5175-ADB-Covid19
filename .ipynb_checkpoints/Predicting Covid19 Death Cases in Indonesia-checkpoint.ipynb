{
 "cells": [
  {
   "cell_type": "code",
   "execution_count": 1,
   "metadata": {},
   "outputs": [],
   "source": [
    "import pandas as pd\n",
    "import numpy as np\n",
    "from datetime import datetime,timedelta\n",
    "from sklearn.metrics import mean_squared_error\n",
    "from scipy.optimize import curve_fit\n",
    "from scipy.optimize import fsolve\n",
    "import matplotlib.pyplot as plt"
   ]
  },
  {
   "cell_type": "markdown",
   "metadata": {},
   "source": [
    "## Using Logistic Model\n",
    "### https://www.kaggle.com/rizkyalifr/logistic-model-for-indonesia-covid-19"
   ]
  },
  {
   "cell_type": "code",
   "execution_count": 2,
   "metadata": {},
   "outputs": [],
   "source": [
    "# df=pd.read_csv('indonesia-coronavirus-cases/confirmed_acc.csv')\n",
    "# df = df.loc[:,['date','cases']]\n",
    "# FMT = '%m/%d/%Y'\n",
    "\n",
    "df = pd.read_csv('indonesia-coronavirus-cases/cases.csv')\n",
    "df = df.loc[:,['date','acc_deceased']]\n",
    "df = df.dropna()\n",
    "FMT = '%d-%b-%y'\n",
    "\n",
    "date = df['date']\n",
    "# df['date'] = date.map(lambda x : (datetime.strptime(x, FMT) - datetime.strptime(\"1/22/2020\", FMT)).days  )\n",
    "df['date'] = date.map(lambda x : (datetime.strptime(x, FMT) - datetime.strptime(\"22-Jan-20\", FMT)).days  )"
   ]
  },
  {
   "cell_type": "code",
   "execution_count": 3,
   "metadata": {},
   "outputs": [
    {
     "name": "stdout",
     "output_type": "stream",
     "text": [
      "    date  acc_deceased\n",
      "16    56          19.0\n",
      "17    57          25.0\n",
      "18    58          32.0\n",
      "19    59          38.0\n",
      "20    60          48.0\n"
     ]
    }
   ],
   "source": [
    "print(df.tail())"
   ]
  },
  {
   "cell_type": "code",
   "execution_count": 4,
   "metadata": {},
   "outputs": [],
   "source": [
    "def logistic_model(x,a,b,c):\n",
    "    return c/(1+np.exp(-(x-b)/a))"
   ]
  },
  {
   "cell_type": "code",
   "execution_count": 5,
   "metadata": {},
   "outputs": [
    {
     "data": {
      "text/plain": [
       "array([ 2.09625172, 58.44222035, 70.07245589])"
      ]
     },
     "execution_count": 5,
     "metadata": {},
     "output_type": "execute_result"
    }
   ],
   "source": [
    "x = list(df.iloc[:,0])\n",
    "y = list(df.iloc[:,1])\n",
    "\n",
    "fit = curve_fit(logistic_model,x,y,p0=[2,100,1000])\n",
    "\n",
    "A,B = fit\n",
    "#nilai a,b,c\n",
    "A"
   ]
  },
  {
   "cell_type": "code",
   "execution_count": 6,
   "metadata": {},
   "outputs": [
    {
     "data": {
      "text/plain": [
       "[0.258705392466931, 0.7736562012061152, 11.746704622977433]"
      ]
     },
     "execution_count": 6,
     "metadata": {},
     "output_type": "execute_result"
    }
   ],
   "source": [
    "errors = [np.sqrt(fit[1][i][i]) for i in [0,1,2]]\n",
    "errors"
   ]
  },
  {
   "cell_type": "code",
   "execution_count": 7,
   "metadata": {},
   "outputs": [],
   "source": [
    "#Kemungkinan terburuk\n",
    "a=A[0]+errors[0]\n",
    "b=A[1]+errors[1]\n",
    "c=A[2]+errors[2]"
   ]
  },
  {
   "cell_type": "code",
   "execution_count": 8,
   "metadata": {},
   "outputs": [
    {
     "data": {
      "text/plain": [
       "70"
      ]
     },
     "execution_count": 8,
     "metadata": {},
     "output_type": "execute_result"
    }
   ],
   "source": [
    "#Jumlah hari maksimal dari 2 Maret \n",
    "sol = int(fsolve(lambda x : logistic_model(x,a,b,c) - int(c),b))\n",
    "sol"
   ]
  },
  {
   "cell_type": "code",
   "execution_count": 9,
   "metadata": {},
   "outputs": [
    {
     "data": {
      "image/png": "[encoded data removed]",
      "text/plain": [
       "<Figure size 504x504 with 1 Axes>"
      ]
     },
     "metadata": {
      "needs_background": "light"
     },
     "output_type": "display_data"
    }
   ],
   "source": [
    "pred_x = list(range(max(x),sol))\n",
    "plt.rcParams['figure.figsize'] = [7, 7]\n",
    "plt.rc('font', size=14)# Real data\n",
    "plt.scatter(x,y,label=\"Real data\",color=\"red\")\n",
    "\n",
    "# Predicted logistic curve\n",
    "plt.plot(x+pred_x, [logistic_model(i,a,b,c) for i in x+pred_x], label=\"Logistic model\" )\n",
    "\n",
    "plt.legend()\n",
    "plt.xlabel(\"Days since 22 January 2020\")\n",
    "plt.ylabel(\"Total number of deceased people\")\n",
    "plt.ylim((min(y)*0.9,c*1.1))\n",
    "plt.show()"
   ]
  },
  {
   "cell_type": "code",
   "execution_count": 10,
   "metadata": {},
   "outputs": [
    {
     "name": "stdout",
     "output_type": "stream",
     "text": [
      "Tanggal 2020-03-22T00:00:00 Jumlah Korban Meninggal 47.65811986980691\n",
      "Tanggal 2020-03-23T00:00:00 Jumlah Korban Meninggal 55.70519877310194\n",
      "Tanggal 2020-03-24T00:00:00 Jumlah Korban Meninggal 62.62031440556483\n",
      "Tanggal 2020-03-25T00:00:00 Jumlah Korban Meninggal 68.1534929697926\n",
      "Tanggal 2020-03-26T00:00:00 Jumlah Korban Meninggal 72.33354860409806\n",
      "Tanggal 2020-03-27T00:00:00 Jumlah Korban Meninggal 75.35625596855802\n",
      "Tanggal 2020-03-28T00:00:00 Jumlah Korban Meninggal 77.47360746280978\n",
      "Tanggal 2020-03-29T00:00:00 Jumlah Korban Meninggal 78.92393204974734\n",
      "Tanggal 2020-03-30T00:00:00 Jumlah Korban Meninggal 79.9021890327896\n",
      "Tanggal 2020-03-31T00:00:00 Jumlah Korban Meninggal 80.55520029728498\n"
     ]
    }
   ],
   "source": [
    "pred_y = [logistic_model(i,a,b,c) for i in pred_x]\n",
    "\n",
    "for i in range(10):\n",
    "    \n",
    "    days = pred_x[i]\n",
    "    date = datetime.strptime(\"22-Jan-20\", \"%d-%b-%y\") + timedelta(days=days)\n",
    "    date = date.isoformat()\n",
    "    print('Tanggal',date,'Jumlah Korban Meninggal',pred_y[i])"
   ]
  },
  {
   "cell_type": "code",
   "execution_count": 11,
   "metadata": {},
   "outputs": [
    {
     "name": "stdout",
     "output_type": "stream",
     "text": [
      "R^2 adalah 0.9863367224454633\n",
      "Mean square errornya adalah 2.684384793379066\n"
     ]
    }
   ],
   "source": [
    "y_pred_logistic = [logistic_model(i,a,b,c) for i in x]\n",
    "p=mean_squared_error(y,y_pred_logistic)\n",
    "\n",
    "s1=(np.subtract(y,y_pred_logistic)**2).sum()\n",
    "s2=(np.subtract(y,np.mean(y))**2).sum()\n",
    "r=1-s1/s2\n",
    "print(\"R^2 adalah {}\".format(r))\n",
    "print(\"Mean square errornya adalah {}\".format(p))"
   ]
  },
  {
   "cell_type": "code",
   "execution_count": 12,
   "metadata": {},
   "outputs": [],
   "source": [
    "from datetime import timedelta, date\n",
    "from datetime import datetime  \n",
    "from datetime import timedelta \n",
    "\n",
    "start_date = \"22/01/20\"\n",
    "\n",
    "date_1 = datetime.strptime(start_date, \"%d/%m/%y\")\n",
    "\n",
    "end_date = date_1 + timedelta(days=sol)\n",
    "\n",
    "end = end_date.strftime(\"%d %b %Y\")"
   ]
  },
  {
   "cell_type": "code",
   "execution_count": 13,
   "metadata": {},
   "outputs": [
    {
     "name": "stdout",
     "output_type": "stream",
     "text": [
      "Jumlah maksimal pasien meninggal di Indonesia menurut prediksi adalah 81.819161\n",
      "Wabah akan berakhir 70 hari setelah 22 Januari 2020 atau 01 Apr 2020\n"
     ]
    }
   ],
   "source": [
    "print(\"Jumlah maksimal pasien meninggal di Indonesia menurut prediksi adalah {:f}\".format(A[2]+errors[2])) #Penambahan dengan error\n",
    "print(\"Wabah akan berakhir {:.0f} hari setelah 22 Januari 2020 atau {}\". format(sol,end))"
   ]
  },
  {
   "cell_type": "code",
   "execution_count": null,
   "metadata": {},
   "outputs": [],
   "source": []
  }
 ],
 "metadata": {
  "kernelspec": {
   "display_name": "Python 3",
   "language": "python",
   "name": "python3"
  },
  "language_info": {
   "codemirror_mode": {
    "name": "ipython",
    "version": 3
   },
   "file_extension": ".py",
   "mimetype": "text/x-python",
   "name": "python",
   "nbconvert_exporter": "python",
   "pygments_lexer": "ipython3",
   "version": "3.7.4"
  }
 },
 "nbformat": 4,
 "nbformat_minor": 2
}
